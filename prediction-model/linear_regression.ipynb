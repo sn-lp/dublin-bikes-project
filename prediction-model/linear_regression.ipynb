{
 "cells": [
  {
   "cell_type": "markdown",
   "metadata": {},
   "source": [
    "# Using a linear regression predictive model to predict number of available bikes \n",
    "\n",
    "The model estimated is a linear model taking the form:\n",
    "\n",
    "𝑡𝑎𝑟𝑔𝑒𝑡_𝑓𝑒𝑎𝑡𝑢𝑟𝑒=𝑤0+𝑤1∗𝑓𝑒𝑎𝑡𝑢𝑟𝑒1+𝑤2∗𝑓𝑒𝑎𝑡𝑢𝑟𝑒2+...+𝑤𝑛∗𝑓𝑒𝑎𝑡𝑢𝑟𝑒𝑛 \n",
    "\n",
    "The target feature is availableBikes"
   ]
  },
  {
   "cell_type": "code",
   "execution_count": 1,
   "metadata": {},
   "outputs": [],
   "source": [
    "from sklearn.linear_model import LinearRegression\n",
    "from sklearn import metrics\n",
    "import pickle\n",
    "import pandas as pd\n",
    "import matplotlib.pyplot as plt"
   ]
  },
  {
   "cell_type": "markdown",
   "metadata": {},
   "source": [
    "### Import functions from \"functions.ipynb\""
   ]
  },
  {
   "cell_type": "code",
   "execution_count": 2,
   "metadata": {},
   "outputs": [],
   "source": [
    "%run functions.ipynb"
   ]
  },
  {
   "cell_type": "markdown",
   "metadata": {},
   "source": [
    "### Get lists from \"data_prep.ipynb\"\n",
    "**To load the %stored variables run the cells in data_prep.ipynb first**"
   ]
  },
  {
   "cell_type": "code",
   "execution_count": 4,
   "metadata": {},
   "outputs": [],
   "source": [
    "%store -r all_features\n",
    "# all_features"
   ]
  },
  {
   "cell_type": "code",
   "execution_count": 5,
   "metadata": {
    "scrolled": true
   },
   "outputs": [],
   "source": [
    "%store -r station_id_list full_hour_list weekdays_list"
   ]
  },
  {
   "cell_type": "markdown",
   "metadata": {},
   "source": [
    "### Loading dataframe from pickle file\n",
    "**Before running the following cells create pickle file by runnning data-prep.ipynb**"
   ]
  },
  {
   "cell_type": "code",
   "execution_count": 6,
   "metadata": {},
   "outputs": [],
   "source": [
    "filename = 'df_station_updates_all_features'\n",
    "infile = open(filename,'rb')\n",
    "df_station_updates_all_features = pickle.load(infile)\n",
    "infile.close()"
   ]
  },
  {
   "cell_type": "code",
   "execution_count": 7,
   "metadata": {},
   "outputs": [
    {
     "name": "stdout",
     "output_type": "stream",
     "text": [
      "<class 'pandas.core.frame.DataFrame'>\n"
     ]
    }
   ],
   "source": [
    "print(type(df_station_updates_all_features))"
   ]
  },
  {
   "cell_type": "code",
   "execution_count": 8,
   "metadata": {
    "scrolled": true
   },
   "outputs": [
    {
     "data": {
      "text/html": [
       "<div>\n",
       "<style scoped>\n",
       "    .dataframe tbody tr th:only-of-type {\n",
       "        vertical-align: middle;\n",
       "    }\n",
       "\n",
       "    .dataframe tbody tr th {\n",
       "        vertical-align: top;\n",
       "    }\n",
       "\n",
       "    .dataframe thead th {\n",
       "        text-align: right;\n",
       "    }\n",
       "</style>\n",
       "<table border=\"1\" class=\"dataframe\">\n",
       "  <thead>\n",
       "    <tr style=\"text-align: right;\">\n",
       "      <th></th>\n",
       "      <th>stationId</th>\n",
       "      <th>totalStands</th>\n",
       "      <th>availableBikes</th>\n",
       "      <th>freeStands</th>\n",
       "      <th>lastUpdate</th>\n",
       "      <th>temperature</th>\n",
       "      <th>cloudiness</th>\n",
       "      <th>windSpeed</th>\n",
       "      <th>rain</th>\n",
       "      <th>snow</th>\n",
       "      <th>...</th>\n",
       "      <th>mainWeather_Fog</th>\n",
       "      <th>mainWeather_Mist</th>\n",
       "      <th>mainWeather_Rain</th>\n",
       "      <th>mainWeather_Snow</th>\n",
       "      <th>weekday_Monday</th>\n",
       "      <th>weekday_Saturday</th>\n",
       "      <th>weekday_Sunday</th>\n",
       "      <th>weekday_Thursday</th>\n",
       "      <th>weekday_Tuesday</th>\n",
       "      <th>weekday_Wednesday</th>\n",
       "    </tr>\n",
       "  </thead>\n",
       "  <tbody>\n",
       "    <tr>\n",
       "      <th>0</th>\n",
       "      <td>2</td>\n",
       "      <td>20</td>\n",
       "      <td>10</td>\n",
       "      <td>10</td>\n",
       "      <td>2021-02-27 17:35:14</td>\n",
       "      <td>9.34</td>\n",
       "      <td>75.0</td>\n",
       "      <td>2.57</td>\n",
       "      <td>0.0</td>\n",
       "      <td>0.0</td>\n",
       "      <td>...</td>\n",
       "      <td>0</td>\n",
       "      <td>0</td>\n",
       "      <td>0</td>\n",
       "      <td>0</td>\n",
       "      <td>0</td>\n",
       "      <td>1</td>\n",
       "      <td>0</td>\n",
       "      <td>0</td>\n",
       "      <td>0</td>\n",
       "      <td>0</td>\n",
       "    </tr>\n",
       "    <tr>\n",
       "      <th>1</th>\n",
       "      <td>2</td>\n",
       "      <td>20</td>\n",
       "      <td>10</td>\n",
       "      <td>10</td>\n",
       "      <td>2021-02-27 17:45:23</td>\n",
       "      <td>9.20</td>\n",
       "      <td>75.0</td>\n",
       "      <td>1.03</td>\n",
       "      <td>0.0</td>\n",
       "      <td>0.0</td>\n",
       "      <td>...</td>\n",
       "      <td>0</td>\n",
       "      <td>0</td>\n",
       "      <td>0</td>\n",
       "      <td>0</td>\n",
       "      <td>0</td>\n",
       "      <td>1</td>\n",
       "      <td>0</td>\n",
       "      <td>0</td>\n",
       "      <td>0</td>\n",
       "      <td>0</td>\n",
       "    </tr>\n",
       "    <tr>\n",
       "      <th>2</th>\n",
       "      <td>2</td>\n",
       "      <td>20</td>\n",
       "      <td>10</td>\n",
       "      <td>10</td>\n",
       "      <td>2021-02-27 17:55:32</td>\n",
       "      <td>9.48</td>\n",
       "      <td>75.0</td>\n",
       "      <td>1.03</td>\n",
       "      <td>0.0</td>\n",
       "      <td>0.0</td>\n",
       "      <td>...</td>\n",
       "      <td>0</td>\n",
       "      <td>0</td>\n",
       "      <td>0</td>\n",
       "      <td>0</td>\n",
       "      <td>0</td>\n",
       "      <td>1</td>\n",
       "      <td>0</td>\n",
       "      <td>0</td>\n",
       "      <td>0</td>\n",
       "      <td>0</td>\n",
       "    </tr>\n",
       "    <tr>\n",
       "      <th>3</th>\n",
       "      <td>2</td>\n",
       "      <td>20</td>\n",
       "      <td>11</td>\n",
       "      <td>9</td>\n",
       "      <td>2021-02-27 18:00:42</td>\n",
       "      <td>9.22</td>\n",
       "      <td>75.0</td>\n",
       "      <td>1.03</td>\n",
       "      <td>0.0</td>\n",
       "      <td>0.0</td>\n",
       "      <td>...</td>\n",
       "      <td>0</td>\n",
       "      <td>0</td>\n",
       "      <td>0</td>\n",
       "      <td>0</td>\n",
       "      <td>0</td>\n",
       "      <td>1</td>\n",
       "      <td>0</td>\n",
       "      <td>0</td>\n",
       "      <td>0</td>\n",
       "      <td>0</td>\n",
       "    </tr>\n",
       "    <tr>\n",
       "      <th>4</th>\n",
       "      <td>2</td>\n",
       "      <td>20</td>\n",
       "      <td>11</td>\n",
       "      <td>9</td>\n",
       "      <td>2021-02-27 18:10:51</td>\n",
       "      <td>8.85</td>\n",
       "      <td>75.0</td>\n",
       "      <td>0.51</td>\n",
       "      <td>0.0</td>\n",
       "      <td>0.0</td>\n",
       "      <td>...</td>\n",
       "      <td>0</td>\n",
       "      <td>0</td>\n",
       "      <td>0</td>\n",
       "      <td>0</td>\n",
       "      <td>0</td>\n",
       "      <td>1</td>\n",
       "      <td>0</td>\n",
       "      <td>0</td>\n",
       "      <td>0</td>\n",
       "      <td>0</td>\n",
       "    </tr>\n",
       "  </tbody>\n",
       "</table>\n",
       "<p>5 rows × 25 columns</p>\n",
       "</div>"
      ],
      "text/plain": [
       "  stationId  totalStands  availableBikes  freeStands          lastUpdate  \\\n",
       "0         2           20              10          10 2021-02-27 17:35:14   \n",
       "1         2           20              10          10 2021-02-27 17:45:23   \n",
       "2         2           20              10          10 2021-02-27 17:55:32   \n",
       "3         2           20              11           9 2021-02-27 18:00:42   \n",
       "4         2           20              11           9 2021-02-27 18:10:51   \n",
       "\n",
       "   temperature  cloudiness  windSpeed  rain  snow  ...  mainWeather_Fog  \\\n",
       "0         9.34        75.0       2.57   0.0   0.0  ...                0   \n",
       "1         9.20        75.0       1.03   0.0   0.0  ...                0   \n",
       "2         9.48        75.0       1.03   0.0   0.0  ...                0   \n",
       "3         9.22        75.0       1.03   0.0   0.0  ...                0   \n",
       "4         8.85        75.0       0.51   0.0   0.0  ...                0   \n",
       "\n",
       "   mainWeather_Mist  mainWeather_Rain  mainWeather_Snow  weekday_Monday  \\\n",
       "0                 0                 0                 0               0   \n",
       "1                 0                 0                 0               0   \n",
       "2                 0                 0                 0               0   \n",
       "3                 0                 0                 0               0   \n",
       "4                 0                 0                 0               0   \n",
       "\n",
       "   weekday_Saturday  weekday_Sunday  weekday_Thursday  weekday_Tuesday  \\\n",
       "0                 1               0                 0                0   \n",
       "1                 1               0                 0                0   \n",
       "2                 1               0                 0                0   \n",
       "3                 1               0                 0                0   \n",
       "4                 1               0                 0                0   \n",
       "\n",
       "   weekday_Wednesday  \n",
       "0                  0  \n",
       "1                  0  \n",
       "2                  0  \n",
       "3                  0  \n",
       "4                  0  \n",
       "\n",
       "[5 rows x 25 columns]"
      ]
     },
     "execution_count": 8,
     "metadata": {},
     "output_type": "execute_result"
    }
   ],
   "source": [
    "df_station_updates_all_features.head()"
   ]
  },
  {
   "cell_type": "code",
   "execution_count": 9,
   "metadata": {},
   "outputs": [
    {
     "name": "stdout",
     "output_type": "stream",
     "text": [
      "<class 'pandas.core.frame.DataFrame'>\n",
      "Int64Index: 586132 entries, 0 to 586131\n",
      "Data columns (total 25 columns):\n",
      " #   Column               Non-Null Count   Dtype         \n",
      "---  ------               --------------   -----         \n",
      " 0   stationId            586132 non-null  object        \n",
      " 1   totalStands          586132 non-null  int64         \n",
      " 2   availableBikes       586132 non-null  int64         \n",
      " 3   freeStands           586132 non-null  int64         \n",
      " 4   lastUpdate           586132 non-null  datetime64[ns]\n",
      " 5   temperature          586132 non-null  float64       \n",
      " 6   cloudiness           586132 non-null  float64       \n",
      " 7   windSpeed            586132 non-null  float64       \n",
      " 8   rain                 586132 non-null  float64       \n",
      " 9   snow                 586132 non-null  float64       \n",
      " 10  fullHour             586132 non-null  int64         \n",
      " 11  hour_sin             586132 non-null  float64       \n",
      " 12  hour_cos             586132 non-null  float64       \n",
      " 13  mainWeather_Clouds   586132 non-null  uint8         \n",
      " 14  mainWeather_Drizzle  586132 non-null  uint8         \n",
      " 15  mainWeather_Fog      586132 non-null  uint8         \n",
      " 16  mainWeather_Mist     586132 non-null  uint8         \n",
      " 17  mainWeather_Rain     586132 non-null  uint8         \n",
      " 18  mainWeather_Snow     586132 non-null  uint8         \n",
      " 19  weekday_Monday       586132 non-null  uint8         \n",
      " 20  weekday_Saturday     586132 non-null  uint8         \n",
      " 21  weekday_Sunday       586132 non-null  uint8         \n",
      " 22  weekday_Thursday     586132 non-null  uint8         \n",
      " 23  weekday_Tuesday      586132 non-null  uint8         \n",
      " 24  weekday_Wednesday    586132 non-null  uint8         \n",
      "dtypes: datetime64[ns](1), float64(7), int64(4), object(1), uint8(12)\n",
      "memory usage: 69.3+ MB\n"
     ]
    }
   ],
   "source": [
    "df_station_updates_all_features.info()"
   ]
  },
  {
   "cell_type": "markdown",
   "metadata": {},
   "source": [
    "### Training models with multiple linear regression"
   ]
  },
  {
   "cell_type": "code",
   "execution_count": 10,
   "metadata": {},
   "outputs": [],
   "source": [
    "# this function fits a linear regression model to the training data\n",
    "# returns the model learned\n",
    "def apply_model_to_training_data(X_training_data, y_training_data):\n",
    "    model = LinearRegression().fit(X_training_data, y_training_data)\n",
    "    return model"
   ]
  },
  {
   "cell_type": "code",
   "execution_count": 11,
   "metadata": {},
   "outputs": [],
   "source": [
    "def train_model_per_station(df, station_id_list, features, number_splits, number_test_size, number_gap):\n",
    "   \n",
    "    # initialise a dict that will store the station models for each split for all stations\n",
    "    stations_splits_and_models = {}\n",
    "    for station_id in station_id_list:\n",
    "        # create a key with each station Id and assign another dict as a value that will hold the features, splits, and models learned\n",
    "        stations_splits_and_models[station_id] = {'Features': features}\n",
    "\n",
    "        # get rows with stationId == station_id separated by descriptive features and target feature\n",
    "        df_station_data = filter_station_data(df, station_id)\n",
    "\n",
    "        # get station data ordered by lastUpdate to make sure data is sequential timewise\n",
    "        df_station_time_ordered = order_df_by_lastUpdate(df_station_data)\n",
    "\n",
    "        # separate descriptive features from target feature\n",
    "        X, y = get_station_features_and_target(df_station_time_ordered, features)\n",
    "\n",
    "        # split data into test and training data using TimeSeriesSplit and train the model for each split     \n",
    "        splits = split_time_series_data_and_train_model_for_each_split(X, y, number_splits, number_test_size, number_gap)\n",
    "\n",
    "        for key in splits.keys():\n",
    "            stations_splits_and_models[station_id][key] = {}\n",
    "\n",
    "            split_coeficients = splits[key]['Model'].coef_.tolist()\n",
    "            split_intercept = splits[key]['Model'].intercept_\n",
    "            split_model = splits[key]['Model']\n",
    "            split_X_train = splits[key]['X_train']\n",
    "            split_X_test = splits[key]['X_test']\n",
    "            split_y_train = splits[key]['y_train']\n",
    "            split_y_test = splits[key]['y_test']\n",
    "            \n",
    "            # store data in each split\n",
    "            stations_splits_and_models[station_id][key]['X_train'] = split_X_train\n",
    "            stations_splits_and_models[station_id][key]['X_test'] = split_X_test\n",
    "            stations_splits_and_models[station_id][key]['y_train'] = split_y_train\n",
    "            stations_splits_and_models[station_id][key]['y_test'] = split_y_test\n",
    "            \n",
    "            # store model learned for each split for the current station in 'stations_splits_and_models' dict\n",
    "            stations_splits_and_models[station_id][key]['Coeficients'] = split_coeficients\n",
    "            stations_splits_and_models[station_id][key]['Intercept'] = split_intercept\n",
    "            stations_splits_and_models[station_id][key]['Model'] = split_model\n",
    "                                                         \n",
    "    # return features, splits data and all models learned for each split for every station in a dict\n",
    "    return stations_splits_and_models"
   ]
  },
  {
   "cell_type": "code",
   "execution_count": 12,
   "metadata": {},
   "outputs": [],
   "source": [
    "stations_splits_and_models = train_model_per_station(df_station_updates_all_features, station_id_list, all_features, number_splits=4, number_test_size=None, number_gap=0)"
   ]
  },
  {
   "cell_type": "code",
   "execution_count": 13,
   "metadata": {
    "scrolled": false
   },
   "outputs": [
    {
     "data": {
      "text/plain": [
       "dict_keys(['Features', 'split_1', 'split_2', 'split_3', 'split_4'])"
      ]
     },
     "execution_count": 13,
     "metadata": {},
     "output_type": "execute_result"
    }
   ],
   "source": [
    "# this dict has the features, splits and models learned for each split for every station\n",
    "stations_splits_and_models[2].keys()"
   ]
  },
  {
   "cell_type": "markdown",
   "metadata": {},
   "source": [
    "### Predictions (for each split) for every station"
   ]
  },
  {
   "cell_type": "code",
   "execution_count": 14,
   "metadata": {
    "scrolled": false
   },
   "outputs": [
    {
     "data": {
      "text/plain": [
       "dict_keys(['split_1', 'split_2', 'split_3', 'split_4', 'AVG Metrics'])"
      ]
     },
     "execution_count": 14,
     "metadata": {},
     "output_type": "execute_result"
    }
   ],
   "source": [
    "# get predicted availability values and metrics on training data for all stations for each data split\n",
    "predictions_training_data = get_predictions_and_metrics_for_each_split_all_stations(stations_splits_and_models, 'X_train', 'y_train')\n",
    "# this dict has the predictions for each station for each train data split, the metrics per split\n",
    "    # and the avg across all splits\n",
    "predictions_training_data[2].keys() "
   ]
  },
  {
   "cell_type": "code",
   "execution_count": 15,
   "metadata": {
    "scrolled": true
   },
   "outputs": [
    {
     "data": {
      "text/plain": [
       "109"
      ]
     },
     "execution_count": 15,
     "metadata": {},
     "output_type": "execute_result"
    }
   ],
   "source": [
    "# get predicted availability values and metrics on test data for all stations for each data split\n",
    "predictions_test_data = get_predictions_and_metrics_for_each_split_all_stations(stations_splits_and_models, 'X_test', 'y_test')\n",
    "# this dict has the predictions for each station for each test data split, the metrics per split\n",
    "    # and the avg across all splits\n",
    "len(predictions_test_data)"
   ]
  },
  {
   "cell_type": "markdown",
   "metadata": {},
   "source": [
    "### Metrics (for each split and the average over all splits) for every station"
   ]
  },
  {
   "cell_type": "code",
   "execution_count": 16,
   "metadata": {},
   "outputs": [
    {
     "data": {
      "text/plain": [
       "{'AVG MAE': 4.733092700932025,\n",
       " 'AVG MSE': 33.34095291521121,\n",
       " 'AVG RMSE': 5.692179068788941,\n",
       " 'AVG R2': -0.998466041978683}"
      ]
     },
     "execution_count": 16,
     "metadata": {},
     "output_type": "execute_result"
    }
   ],
   "source": [
    "predictions_test_data[2]['AVG Metrics']"
   ]
  },
  {
   "cell_type": "markdown",
   "metadata": {},
   "source": [
    "#### Average RMSE across Stations"
   ]
  },
  {
   "cell_type": "code",
   "execution_count": 17,
   "metadata": {
    "scrolled": true
   },
   "outputs": [
    {
     "data": {
      "image/png": "[encoded data removed]",
      "text/plain": [
       "<Figure size 720x720 with 2 Axes>"
      ]
     },
     "metadata": {
      "needs_background": "light"
     },
     "output_type": "display_data"
    },
    {
     "data": {
      "text/plain": [
       "<Figure size 720x720 with 0 Axes>"
      ]
     },
     "metadata": {},
     "output_type": "display_data"
    }
   ],
   "source": [
    "rmse = []\n",
    "mae = []\n",
    "\n",
    "for s in station_id_list:\n",
    "    rmse.append(predictions_test_data[s]['AVG Metrics']['AVG RMSE'])\n",
    "    mae.append(predictions_test_data[s]['AVG Metrics']['AVG MAE'])\n",
    "\n",
    "fig, (ax1, ax2) = plt.subplots(2, figsize=(10, 10))\n",
    "plt.figure(figsize=(10,10))\n",
    "ax1.set_title(\"Average RMSE per Station\")\n",
    "ax1.set_ylabel(\"Average RMSE\")\n",
    "ax1.set_xlabel(\"Station ID\")\n",
    "ax1.plot(station_id_list, rmse, 'o', color='black');\n",
    "\n",
    "ax2.set_title(\"Average MAE per Station\")\n",
    "ax2.plot(station_id_list, mae, 'o', color='black')\n",
    "ax2.set_xlabel(\"Station ID\")\n",
    "ax2.set_ylabel(\"Average MAE\")\n",
    "fig.savefig(\"Average RMSE and MAE\");"
   ]
  },
  {
   "cell_type": "code",
   "execution_count": 18,
   "metadata": {},
   "outputs": [
    {
     "data": {
      "text/html": [
       "<div>\n",
       "<style scoped>\n",
       "    .dataframe tbody tr th:only-of-type {\n",
       "        vertical-align: middle;\n",
       "    }\n",
       "\n",
       "    .dataframe tbody tr th {\n",
       "        vertical-align: top;\n",
       "    }\n",
       "\n",
       "    .dataframe thead th {\n",
       "        text-align: right;\n",
       "    }\n",
       "</style>\n",
       "<table border=\"1\" class=\"dataframe\">\n",
       "  <thead>\n",
       "    <tr style=\"text-align: right;\">\n",
       "      <th></th>\n",
       "      <th>rmse</th>\n",
       "      <th>mae</th>\n",
       "    </tr>\n",
       "  </thead>\n",
       "  <tbody>\n",
       "    <tr>\n",
       "      <th>count</th>\n",
       "      <td>109.000000</td>\n",
       "      <td>109.000000</td>\n",
       "    </tr>\n",
       "    <tr>\n",
       "      <th>mean</th>\n",
       "      <td>6.861249</td>\n",
       "      <td>5.671253</td>\n",
       "    </tr>\n",
       "    <tr>\n",
       "      <th>std</th>\n",
       "      <td>1.680435</td>\n",
       "      <td>1.357195</td>\n",
       "    </tr>\n",
       "    <tr>\n",
       "      <th>min</th>\n",
       "      <td>3.799913</td>\n",
       "      <td>3.229664</td>\n",
       "    </tr>\n",
       "    <tr>\n",
       "      <th>25%</th>\n",
       "      <td>5.609239</td>\n",
       "      <td>4.705680</td>\n",
       "    </tr>\n",
       "    <tr>\n",
       "      <th>50%</th>\n",
       "      <td>6.729142</td>\n",
       "      <td>5.614813</td>\n",
       "    </tr>\n",
       "    <tr>\n",
       "      <th>75%</th>\n",
       "      <td>7.680632</td>\n",
       "      <td>6.391831</td>\n",
       "    </tr>\n",
       "    <tr>\n",
       "      <th>max</th>\n",
       "      <td>12.556212</td>\n",
       "      <td>10.321259</td>\n",
       "    </tr>\n",
       "  </tbody>\n",
       "</table>\n",
       "</div>"
      ],
      "text/plain": [
       "             rmse         mae\n",
       "count  109.000000  109.000000\n",
       "mean     6.861249    5.671253\n",
       "std      1.680435    1.357195\n",
       "min      3.799913    3.229664\n",
       "25%      5.609239    4.705680\n",
       "50%      6.729142    5.614813\n",
       "75%      7.680632    6.391831\n",
       "max     12.556212   10.321259"
      ]
     },
     "execution_count": 18,
     "metadata": {},
     "output_type": "execute_result"
    }
   ],
   "source": [
    "pd.DataFrame({'station_id': station_id_list, 'rmse': rmse, 'mae': mae}).describe()[['rmse', 'mae']]"
   ]
  }
 ],
 "metadata": {
  "kernelspec": {
   "display_name": "Python 3",
   "language": "python",
   "name": "python3"
  },
  "language_info": {
   "codemirror_mode": {
    "name": "ipython",
    "version": 3
   },
   "file_extension": ".py",
   "mimetype": "text/x-python",
   "name": "python",
   "nbconvert_exporter": "python",
   "pygments_lexer": "ipython3",
   "version": "3.8.5"
  }
 },
 "nbformat": 4,
 "nbformat_minor": 5
}
