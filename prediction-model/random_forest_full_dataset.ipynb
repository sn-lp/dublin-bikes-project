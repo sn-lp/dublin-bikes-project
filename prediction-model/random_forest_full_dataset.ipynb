{
 "cells": [
  {
   "cell_type": "markdown",
   "metadata": {},
   "source": [
    "# Prediction Model with Random Forest"
   ]
  },
  {
   "cell_type": "code",
   "execution_count": 1,
   "metadata": {},
   "outputs": [],
   "source": [
    "from sklearn.ensemble import RandomForestRegressor\n",
    "from sklearn import metrics\n",
    "import pickle\n",
    "import pandas as pd\n",
    "import matplotlib.pyplot as plt"
   ]
  },
  {
   "cell_type": "markdown",
   "metadata": {},
   "source": [
    "### Import functions from \"functions.ipynb\""
   ]
  },
  {
   "cell_type": "code",
   "execution_count": 2,
   "metadata": {},
   "outputs": [],
   "source": [
    "%run functions.ipynb"
   ]
  },
  {
   "cell_type": "markdown",
   "metadata": {},
   "source": [
    "### Get lists from \"data_prep.ipynb\"\n",
    "**To load the %stored variables run the cells in data_prep.ipynb first**"
   ]
  },
  {
   "cell_type": "code",
   "execution_count": 3,
   "metadata": {},
   "outputs": [],
   "source": [
    "%store -r all_features\n",
    "# get length of list for determining max_features in randomForestRegressor()\n",
    "# https://stats.stackexchange.com/questions/324370/references-on-number-of-features-to-use-in-random-forest-regression\n",
    "p = len(all_features)"
   ]
  },
  {
   "cell_type": "code",
   "execution_count": 4,
   "metadata": {
    "scrolled": true
   },
   "outputs": [],
   "source": [
    "%store -r station_id_list full_hour_list weekdays_list"
   ]
  },
  {
   "cell_type": "markdown",
   "metadata": {},
   "source": [
    "### Loading dataframe from pickle file\n",
    "**Before running the following cells create pickle file by runnning data-prep.ipynb**"
   ]
  },
  {
   "cell_type": "code",
   "execution_count": 5,
   "metadata": {},
   "outputs": [],
   "source": [
    "filename = 'df_station_updates_all_features'\n",
    "infile = open(filename,'rb')\n",
    "df_station_updates_all_features = pickle.load(infile)\n",
    "infile.close()"
   ]
  },
  {
   "cell_type": "code",
   "execution_count": 6,
   "metadata": {},
   "outputs": [
    {
     "name": "stdout",
     "output_type": "stream",
     "text": [
      "<class 'pandas.core.frame.DataFrame'>\n"
     ]
    }
   ],
   "source": [
    "print(type(df_station_updates_all_features))"
   ]
  },
  {
   "cell_type": "code",
   "execution_count": 7,
   "metadata": {
    "scrolled": true
   },
   "outputs": [
    {
     "data": {
      "text/html": [
       "<div>\n",
       "<style scoped>\n",
       "    .dataframe tbody tr th:only-of-type {\n",
       "        vertical-align: middle;\n",
       "    }\n",
       "\n",
       "    .dataframe tbody tr th {\n",
       "        vertical-align: top;\n",
       "    }\n",
       "\n",
       "    .dataframe thead th {\n",
       "        text-align: right;\n",
       "    }\n",
       "</style>\n",
       "<table border=\"1\" class=\"dataframe\">\n",
       "  <thead>\n",
       "    <tr style=\"text-align: right;\">\n",
       "      <th></th>\n",
       "      <th>stationId</th>\n",
       "      <th>totalStands</th>\n",
       "      <th>availableBikes</th>\n",
       "      <th>freeStands</th>\n",
       "      <th>lastUpdate</th>\n",
       "      <th>temperature</th>\n",
       "      <th>cloudiness</th>\n",
       "      <th>windSpeed</th>\n",
       "      <th>rain</th>\n",
       "      <th>snow</th>\n",
       "      <th>...</th>\n",
       "      <th>mainWeather_Fog</th>\n",
       "      <th>mainWeather_Mist</th>\n",
       "      <th>mainWeather_Rain</th>\n",
       "      <th>mainWeather_Snow</th>\n",
       "      <th>weekday_Monday</th>\n",
       "      <th>weekday_Saturday</th>\n",
       "      <th>weekday_Sunday</th>\n",
       "      <th>weekday_Thursday</th>\n",
       "      <th>weekday_Tuesday</th>\n",
       "      <th>weekday_Wednesday</th>\n",
       "    </tr>\n",
       "  </thead>\n",
       "  <tbody>\n",
       "    <tr>\n",
       "      <th>0</th>\n",
       "      <td>2</td>\n",
       "      <td>20</td>\n",
       "      <td>10</td>\n",
       "      <td>10</td>\n",
       "      <td>2021-02-27 17:35:14</td>\n",
       "      <td>9.34</td>\n",
       "      <td>75.0</td>\n",
       "      <td>2.57</td>\n",
       "      <td>0.0</td>\n",
       "      <td>0.0</td>\n",
       "      <td>...</td>\n",
       "      <td>0</td>\n",
       "      <td>0</td>\n",
       "      <td>0</td>\n",
       "      <td>0</td>\n",
       "      <td>0</td>\n",
       "      <td>1</td>\n",
       "      <td>0</td>\n",
       "      <td>0</td>\n",
       "      <td>0</td>\n",
       "      <td>0</td>\n",
       "    </tr>\n",
       "    <tr>\n",
       "      <th>1</th>\n",
       "      <td>2</td>\n",
       "      <td>20</td>\n",
       "      <td>10</td>\n",
       "      <td>10</td>\n",
       "      <td>2021-02-27 17:45:23</td>\n",
       "      <td>9.20</td>\n",
       "      <td>75.0</td>\n",
       "      <td>1.03</td>\n",
       "      <td>0.0</td>\n",
       "      <td>0.0</td>\n",
       "      <td>...</td>\n",
       "      <td>0</td>\n",
       "      <td>0</td>\n",
       "      <td>0</td>\n",
       "      <td>0</td>\n",
       "      <td>0</td>\n",
       "      <td>1</td>\n",
       "      <td>0</td>\n",
       "      <td>0</td>\n",
       "      <td>0</td>\n",
       "      <td>0</td>\n",
       "    </tr>\n",
       "    <tr>\n",
       "      <th>2</th>\n",
       "      <td>2</td>\n",
       "      <td>20</td>\n",
       "      <td>10</td>\n",
       "      <td>10</td>\n",
       "      <td>2021-02-27 17:55:32</td>\n",
       "      <td>9.48</td>\n",
       "      <td>75.0</td>\n",
       "      <td>1.03</td>\n",
       "      <td>0.0</td>\n",
       "      <td>0.0</td>\n",
       "      <td>...</td>\n",
       "      <td>0</td>\n",
       "      <td>0</td>\n",
       "      <td>0</td>\n",
       "      <td>0</td>\n",
       "      <td>0</td>\n",
       "      <td>1</td>\n",
       "      <td>0</td>\n",
       "      <td>0</td>\n",
       "      <td>0</td>\n",
       "      <td>0</td>\n",
       "    </tr>\n",
       "    <tr>\n",
       "      <th>3</th>\n",
       "      <td>2</td>\n",
       "      <td>20</td>\n",
       "      <td>11</td>\n",
       "      <td>9</td>\n",
       "      <td>2021-02-27 18:00:42</td>\n",
       "      <td>9.22</td>\n",
       "      <td>75.0</td>\n",
       "      <td>1.03</td>\n",
       "      <td>0.0</td>\n",
       "      <td>0.0</td>\n",
       "      <td>...</td>\n",
       "      <td>0</td>\n",
       "      <td>0</td>\n",
       "      <td>0</td>\n",
       "      <td>0</td>\n",
       "      <td>0</td>\n",
       "      <td>1</td>\n",
       "      <td>0</td>\n",
       "      <td>0</td>\n",
       "      <td>0</td>\n",
       "      <td>0</td>\n",
       "    </tr>\n",
       "    <tr>\n",
       "      <th>4</th>\n",
       "      <td>2</td>\n",
       "      <td>20</td>\n",
       "      <td>11</td>\n",
       "      <td>9</td>\n",
       "      <td>2021-02-27 18:10:51</td>\n",
       "      <td>8.85</td>\n",
       "      <td>75.0</td>\n",
       "      <td>0.51</td>\n",
       "      <td>0.0</td>\n",
       "      <td>0.0</td>\n",
       "      <td>...</td>\n",
       "      <td>0</td>\n",
       "      <td>0</td>\n",
       "      <td>0</td>\n",
       "      <td>0</td>\n",
       "      <td>0</td>\n",
       "      <td>1</td>\n",
       "      <td>0</td>\n",
       "      <td>0</td>\n",
       "      <td>0</td>\n",
       "      <td>0</td>\n",
       "    </tr>\n",
       "  </tbody>\n",
       "</table>\n",
       "<p>5 rows × 25 columns</p>\n",
       "</div>"
      ],
      "text/plain": [
       "  stationId  totalStands  availableBikes  freeStands          lastUpdate  \\\n",
       "0         2           20              10          10 2021-02-27 17:35:14   \n",
       "1         2           20              10          10 2021-02-27 17:45:23   \n",
       "2         2           20              10          10 2021-02-27 17:55:32   \n",
       "3         2           20              11           9 2021-02-27 18:00:42   \n",
       "4         2           20              11           9 2021-02-27 18:10:51   \n",
       "\n",
       "   temperature  cloudiness  windSpeed  rain  snow  ...  mainWeather_Fog  \\\n",
       "0         9.34        75.0       2.57   0.0   0.0  ...                0   \n",
       "1         9.20        75.0       1.03   0.0   0.0  ...                0   \n",
       "2         9.48        75.0       1.03   0.0   0.0  ...                0   \n",
       "3         9.22        75.0       1.03   0.0   0.0  ...                0   \n",
       "4         8.85        75.0       0.51   0.0   0.0  ...                0   \n",
       "\n",
       "   mainWeather_Mist  mainWeather_Rain  mainWeather_Snow  weekday_Monday  \\\n",
       "0                 0                 0                 0               0   \n",
       "1                 0                 0                 0               0   \n",
       "2                 0                 0                 0               0   \n",
       "3                 0                 0                 0               0   \n",
       "4                 0                 0                 0               0   \n",
       "\n",
       "   weekday_Saturday  weekday_Sunday  weekday_Thursday  weekday_Tuesday  \\\n",
       "0                 1               0                 0                0   \n",
       "1                 1               0                 0                0   \n",
       "2                 1               0                 0                0   \n",
       "3                 1               0                 0                0   \n",
       "4                 1               0                 0                0   \n",
       "\n",
       "   weekday_Wednesday  \n",
       "0                  0  \n",
       "1                  0  \n",
       "2                  0  \n",
       "3                  0  \n",
       "4                  0  \n",
       "\n",
       "[5 rows x 25 columns]"
      ]
     },
     "execution_count": 7,
     "metadata": {},
     "output_type": "execute_result"
    }
   ],
   "source": [
    "df_station_updates_all_features.head()"
   ]
  },
  {
   "cell_type": "code",
   "execution_count": 8,
   "metadata": {},
   "outputs": [
    {
     "name": "stdout",
     "output_type": "stream",
     "text": [
      "<class 'pandas.core.frame.DataFrame'>\n",
      "Int64Index: 586132 entries, 0 to 586131\n",
      "Data columns (total 25 columns):\n",
      " #   Column               Non-Null Count   Dtype         \n",
      "---  ------               --------------   -----         \n",
      " 0   stationId            586132 non-null  object        \n",
      " 1   totalStands          586132 non-null  int64         \n",
      " 2   availableBikes       586132 non-null  int64         \n",
      " 3   freeStands           586132 non-null  int64         \n",
      " 4   lastUpdate           586132 non-null  datetime64[ns]\n",
      " 5   temperature          586132 non-null  float64       \n",
      " 6   cloudiness           586132 non-null  float64       \n",
      " 7   windSpeed            586132 non-null  float64       \n",
      " 8   rain                 586132 non-null  float64       \n",
      " 9   snow                 586132 non-null  float64       \n",
      " 10  fullHour             586132 non-null  int64         \n",
      " 11  hour_sin             586132 non-null  float64       \n",
      " 12  hour_cos             586132 non-null  float64       \n",
      " 13  mainWeather_Clouds   586132 non-null  uint8         \n",
      " 14  mainWeather_Drizzle  586132 non-null  uint8         \n",
      " 15  mainWeather_Fog      586132 non-null  uint8         \n",
      " 16  mainWeather_Mist     586132 non-null  uint8         \n",
      " 17  mainWeather_Rain     586132 non-null  uint8         \n",
      " 18  mainWeather_Snow     586132 non-null  uint8         \n",
      " 19  weekday_Monday       586132 non-null  uint8         \n",
      " 20  weekday_Saturday     586132 non-null  uint8         \n",
      " 21  weekday_Sunday       586132 non-null  uint8         \n",
      " 22  weekday_Thursday     586132 non-null  uint8         \n",
      " 23  weekday_Tuesday      586132 non-null  uint8         \n",
      " 24  weekday_Wednesday    586132 non-null  uint8         \n",
      "dtypes: datetime64[ns](1), float64(7), int64(4), object(1), uint8(12)\n",
      "memory usage: 69.3+ MB\n"
     ]
    }
   ],
   "source": [
    "df_station_updates_all_features.info()"
   ]
  },
  {
   "cell_type": "markdown",
   "metadata": {},
   "source": [
    "### Training models with multiple linear regression"
   ]
  },
  {
   "cell_type": "code",
   "execution_count": 9,
   "metadata": {},
   "outputs": [],
   "source": [
    "# this function fits a random forest model on full dataset\n",
    "# returns the model learned\n",
    "def apply_model(X, y):\n",
    "    # Instantiate model with 100 decision trees\n",
    "    model = RandomForestRegressor(n_estimators = 200, max_features = int(p/3) ).fit(X, y)\n",
    "    return model"
   ]
  },
  {
   "cell_type": "code",
   "execution_count": 10,
   "metadata": {},
   "outputs": [],
   "source": [
    "def model_per_station(df, station_id_list, features):\n",
    "    \n",
    "    # initialise a dict that will store a model per station\n",
    "    model_dict = {}\n",
    "   \n",
    "    for station_id in station_id_list:\n",
    "        # create a key with each station Id and assign another dict as a value that will hold the features and models learned\n",
    "        # model_dict[station_id] = {'Features': features}\n",
    "\n",
    "        # get rows with stationId == station_id separated by descriptive features and target feature\n",
    "        df_station_data = filter_station_data(df, station_id)\n",
    "\n",
    "        # get station data ordered by lastUpdate to make sure data is sequential timewise\n",
    "        df_station_time_ordered = order_df_by_lastUpdate(df_station_data)\n",
    "\n",
    "        # separate descriptive features from target feature\n",
    "        X, y = get_station_features_and_target(df_station_time_ordered, features)\n",
    "        \n",
    "        # fit model for stationId\n",
    "        model_for_station = apply_model(X, y)\n",
    "        \n",
    "        # store the model learned for the station in model_dict\n",
    "        model_dict[station_id] = model_for_station\n",
    "        \n",
    "                                                         \n",
    "    # return features all models learned for every station in a dict\n",
    "    return model_dict"
   ]
  },
  {
   "cell_type": "code",
   "execution_count": 11,
   "metadata": {},
   "outputs": [],
   "source": [
    "model_per_station = model_per_station(df_station_updates_all_features, station_id_list, all_features)"
   ]
  },
  {
   "cell_type": "code",
   "execution_count": 13,
   "metadata": {},
   "outputs": [],
   "source": [
    "num_stations = list(model_per_station.items())\n",
    "for key,value in num_stations:\n",
    "    filename = 'randomForest_stationID_{}'.format(key)\n",
    "    outfile = open(filename, 'wb')\n",
    "    pickle.dump((key,value),outfile)\n",
    "    outfile.close()"
   ]
  }
 ],
 "metadata": {
  "kernelspec": {
   "display_name": "Python 3",
   "language": "python",
   "name": "python3"
  },
  "language_info": {
   "codemirror_mode": {
    "name": "ipython",
    "version": 3
   },
   "file_extension": ".py",
   "mimetype": "text/x-python",
   "name": "python",
   "nbconvert_exporter": "python",
   "pygments_lexer": "ipython3",
   "version": "3.8.5"
  }
 },
 "nbformat": 4,
 "nbformat_minor": 5
}
