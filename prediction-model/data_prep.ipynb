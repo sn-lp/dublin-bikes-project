{
 "cells": [
  {
   "cell_type": "markdown",
   "metadata": {},
   "source": [
    "# Data Preparation for training models"
   ]
  },
  {
   "cell_type": "markdown",
   "metadata": {},
   "source": [
    "## Getting Data from RDS"
   ]
  },
  {
   "cell_type": "code",
   "execution_count": 1,
   "metadata": {},
   "outputs": [],
   "source": [
    "import pymysql\n",
    "import pandas as pd\n",
    "import numpy as np\n",
    "import math\n",
    "import pickle\n",
    "import os\n",
    "import sys\n",
    "sys.path.append(\"..\")\n",
    "\n",
    "from config import *\n",
    "config = MainConfig()"
   ]
  },
  {
   "cell_type": "code",
   "execution_count": 2,
   "metadata": {},
   "outputs": [],
   "source": [
    "conn = pymysql.connect(\n",
    "    host=config.DB_SERVER,\n",
    "    port=int(config.DB_PORT),\n",
    "    user=config.DB_USER,\n",
    "    passwd=config.DB_PASSWORD,\n",
    "    db=config.DB_NAME,\n",
    "    charset='utf8mb4')"
   ]
  },
  {
   "cell_type": "code",
   "execution_count": 3,
   "metadata": {
    "scrolled": false
   },
   "outputs": [
    {
     "data": {
      "text/html": [
       "<div>\n",
       "<style scoped>\n",
       "    .dataframe tbody tr th:only-of-type {\n",
       "        vertical-align: middle;\n",
       "    }\n",
       "\n",
       "    .dataframe tbody tr th {\n",
       "        vertical-align: top;\n",
       "    }\n",
       "\n",
       "    .dataframe thead th {\n",
       "        text-align: right;\n",
       "    }\n",
       "</style>\n",
       "<table border=\"1\" class=\"dataframe\">\n",
       "  <thead>\n",
       "    <tr style=\"text-align: right;\">\n",
       "      <th></th>\n",
       "      <th>stationId</th>\n",
       "      <th>totalStands</th>\n",
       "      <th>availableBikes</th>\n",
       "      <th>freeStands</th>\n",
       "      <th>lastUpdate</th>\n",
       "      <th>mainWeather</th>\n",
       "      <th>temperature</th>\n",
       "      <th>cloudiness</th>\n",
       "      <th>windSpeed</th>\n",
       "      <th>rain</th>\n",
       "      <th>snow</th>\n",
       "    </tr>\n",
       "  </thead>\n",
       "  <tbody>\n",
       "    <tr>\n",
       "      <th>0</th>\n",
       "      <td>2</td>\n",
       "      <td>20</td>\n",
       "      <td>10</td>\n",
       "      <td>10</td>\n",
       "      <td>2021-02-27 17:35:14</td>\n",
       "      <td>Clouds</td>\n",
       "      <td>9.34</td>\n",
       "      <td>75.0</td>\n",
       "      <td>2.57</td>\n",
       "      <td>0.0</td>\n",
       "      <td>0.0</td>\n",
       "    </tr>\n",
       "    <tr>\n",
       "      <th>1</th>\n",
       "      <td>2</td>\n",
       "      <td>20</td>\n",
       "      <td>10</td>\n",
       "      <td>10</td>\n",
       "      <td>2021-02-27 17:45:23</td>\n",
       "      <td>Clouds</td>\n",
       "      <td>9.20</td>\n",
       "      <td>75.0</td>\n",
       "      <td>1.03</td>\n",
       "      <td>0.0</td>\n",
       "      <td>0.0</td>\n",
       "    </tr>\n",
       "    <tr>\n",
       "      <th>2</th>\n",
       "      <td>2</td>\n",
       "      <td>20</td>\n",
       "      <td>10</td>\n",
       "      <td>10</td>\n",
       "      <td>2021-02-27 17:55:32</td>\n",
       "      <td>Clouds</td>\n",
       "      <td>9.48</td>\n",
       "      <td>75.0</td>\n",
       "      <td>1.03</td>\n",
       "      <td>0.0</td>\n",
       "      <td>0.0</td>\n",
       "    </tr>\n",
       "    <tr>\n",
       "      <th>3</th>\n",
       "      <td>2</td>\n",
       "      <td>20</td>\n",
       "      <td>11</td>\n",
       "      <td>9</td>\n",
       "      <td>2021-02-27 18:00:42</td>\n",
       "      <td>Clouds</td>\n",
       "      <td>9.22</td>\n",
       "      <td>75.0</td>\n",
       "      <td>1.03</td>\n",
       "      <td>0.0</td>\n",
       "      <td>0.0</td>\n",
       "    </tr>\n",
       "    <tr>\n",
       "      <th>4</th>\n",
       "      <td>2</td>\n",
       "      <td>20</td>\n",
       "      <td>11</td>\n",
       "      <td>9</td>\n",
       "      <td>2021-02-27 18:10:51</td>\n",
       "      <td>Clouds</td>\n",
       "      <td>8.85</td>\n",
       "      <td>75.0</td>\n",
       "      <td>0.51</td>\n",
       "      <td>0.0</td>\n",
       "      <td>0.0</td>\n",
       "    </tr>\n",
       "    <tr>\n",
       "      <th>5</th>\n",
       "      <td>2</td>\n",
       "      <td>20</td>\n",
       "      <td>11</td>\n",
       "      <td>9</td>\n",
       "      <td>2021-02-27 18:20:59</td>\n",
       "      <td>Clouds</td>\n",
       "      <td>8.76</td>\n",
       "      <td>75.0</td>\n",
       "      <td>0.51</td>\n",
       "      <td>0.0</td>\n",
       "      <td>0.0</td>\n",
       "    </tr>\n",
       "    <tr>\n",
       "      <th>6</th>\n",
       "      <td>2</td>\n",
       "      <td>20</td>\n",
       "      <td>11</td>\n",
       "      <td>9</td>\n",
       "      <td>2021-02-27 18:31:08</td>\n",
       "      <td>Clouds</td>\n",
       "      <td>8.52</td>\n",
       "      <td>75.0</td>\n",
       "      <td>0.51</td>\n",
       "      <td>0.0</td>\n",
       "      <td>0.0</td>\n",
       "    </tr>\n",
       "    <tr>\n",
       "      <th>7</th>\n",
       "      <td>2</td>\n",
       "      <td>20</td>\n",
       "      <td>11</td>\n",
       "      <td>9</td>\n",
       "      <td>2021-02-27 18:41:17</td>\n",
       "      <td>Clouds</td>\n",
       "      <td>8.17</td>\n",
       "      <td>75.0</td>\n",
       "      <td>1.03</td>\n",
       "      <td>0.0</td>\n",
       "      <td>0.0</td>\n",
       "    </tr>\n",
       "    <tr>\n",
       "      <th>8</th>\n",
       "      <td>2</td>\n",
       "      <td>20</td>\n",
       "      <td>11</td>\n",
       "      <td>9</td>\n",
       "      <td>2021-02-27 18:51:25</td>\n",
       "      <td>Clouds</td>\n",
       "      <td>8.26</td>\n",
       "      <td>75.0</td>\n",
       "      <td>2.06</td>\n",
       "      <td>0.0</td>\n",
       "      <td>0.0</td>\n",
       "    </tr>\n",
       "    <tr>\n",
       "      <th>9</th>\n",
       "      <td>2</td>\n",
       "      <td>20</td>\n",
       "      <td>11</td>\n",
       "      <td>9</td>\n",
       "      <td>2021-02-27 19:01:34</td>\n",
       "      <td>Clouds</td>\n",
       "      <td>8.01</td>\n",
       "      <td>75.0</td>\n",
       "      <td>1.03</td>\n",
       "      <td>0.0</td>\n",
       "      <td>0.0</td>\n",
       "    </tr>\n",
       "  </tbody>\n",
       "</table>\n",
       "</div>"
      ],
      "text/plain": [
       "   stationId  totalStands  availableBikes  freeStands          lastUpdate  \\\n",
       "0          2           20              10          10 2021-02-27 17:35:14   \n",
       "1          2           20              10          10 2021-02-27 17:45:23   \n",
       "2          2           20              10          10 2021-02-27 17:55:32   \n",
       "3          2           20              11           9 2021-02-27 18:00:42   \n",
       "4          2           20              11           9 2021-02-27 18:10:51   \n",
       "5          2           20              11           9 2021-02-27 18:20:59   \n",
       "6          2           20              11           9 2021-02-27 18:31:08   \n",
       "7          2           20              11           9 2021-02-27 18:41:17   \n",
       "8          2           20              11           9 2021-02-27 18:51:25   \n",
       "9          2           20              11           9 2021-02-27 19:01:34   \n",
       "\n",
       "  mainWeather  temperature  cloudiness  windSpeed  rain  snow  \n",
       "0      Clouds         9.34        75.0       2.57   0.0   0.0  \n",
       "1      Clouds         9.20        75.0       1.03   0.0   0.0  \n",
       "2      Clouds         9.48        75.0       1.03   0.0   0.0  \n",
       "3      Clouds         9.22        75.0       1.03   0.0   0.0  \n",
       "4      Clouds         8.85        75.0       0.51   0.0   0.0  \n",
       "5      Clouds         8.76        75.0       0.51   0.0   0.0  \n",
       "6      Clouds         8.52        75.0       0.51   0.0   0.0  \n",
       "7      Clouds         8.17        75.0       1.03   0.0   0.0  \n",
       "8      Clouds         8.26        75.0       2.06   0.0   0.0  \n",
       "9      Clouds         8.01        75.0       1.03   0.0   0.0  "
      ]
     },
     "execution_count": 3,
     "metadata": {},
     "output_type": "execute_result"
    }
   ],
   "source": [
    "df_station_updates = pd.read_sql_query(\n",
    "    \"SELECT * FROM dublin_bikes.station_updates;\",\n",
    "    conn)\n",
    "df_station_updates.head(10)"
   ]
  },
  {
   "cell_type": "code",
   "execution_count": 4,
   "metadata": {},
   "outputs": [
    {
     "data": {
      "text/plain": [
       "(664337, 11)"
      ]
     },
     "execution_count": 4,
     "metadata": {},
     "output_type": "execute_result"
    }
   ],
   "source": [
    "df_station_updates.shape"
   ]
  },
  {
   "cell_type": "markdown",
   "metadata": {},
   "source": [
    "### Duplicates"
   ]
  },
  {
   "cell_type": "code",
   "execution_count": 5,
   "metadata": {},
   "outputs": [
    {
     "name": "stdout",
     "output_type": "stream",
     "text": [
      "Number of duplicate (excluding first) rows in the table is:  0\n",
      "Number of duplicate rows (including first) in the table is: 0\n"
     ]
    }
   ],
   "source": [
    "#Print the number of duplicates, without the original rows that were duplicated\n",
    "print('Number of duplicate (excluding first) rows in the table is: ', df_station_updates.duplicated().sum())\n",
    "\n",
    "# Check for duplicate rows. \n",
    "# Use \"keep=False\" to mark all duplicates as true, including the original rows that were duplicated.\n",
    "print('Number of duplicate rows (including first) in the table is:', df_station_updates[df_station_updates.duplicated(keep=False)].shape[0])"
   ]
  },
  {
   "cell_type": "markdown",
   "metadata": {},
   "source": [
    "### Cardinalities & Unique Values"
   ]
  },
  {
   "cell_type": "code",
   "execution_count": 6,
   "metadata": {
    "scrolled": true
   },
   "outputs": [
    {
     "data": {
      "text/plain": [
       "stationId            110\n",
       "totalStands           18\n",
       "availableBikes        41\n",
       "freeStands            41\n",
       "lastUpdate        458083\n",
       "mainWeather            7\n",
       "temperature         1769\n",
       "cloudiness            16\n",
       "windSpeed             67\n",
       "rain                 359\n",
       "snow                  10\n",
       "dtype: int64"
      ]
     },
     "execution_count": 6,
     "metadata": {},
     "output_type": "execute_result"
    }
   ],
   "source": [
    "# Number of unique values for all features (ignores null values)\n",
    "df_station_updates.nunique()"
   ]
  },
  {
   "cell_type": "code",
   "execution_count": 7,
   "metadata": {},
   "outputs": [
    {
     "data": {
      "text/plain": [
       "array(['Clouds', 'Fog', 'Mist', 'Clear', 'Rain', 'Drizzle', 'Snow'],\n",
       "      dtype=object)"
      ]
     },
     "execution_count": 7,
     "metadata": {},
     "output_type": "execute_result"
    }
   ],
   "source": [
    "# check unique values for categorical features (to compare against dummies created later)\n",
    "df_station_updates['mainWeather'].unique()"
   ]
  },
  {
   "cell_type": "markdown",
   "metadata": {},
   "source": [
    "### Dropping stationId=507"
   ]
  },
  {
   "cell_type": "code",
   "execution_count": 8,
   "metadata": {},
   "outputs": [
    {
     "data": {
      "text/plain": [
       "69     5925\n",
       "34     5789\n",
       "33     5684\n",
       "31     5679\n",
       "5      5650\n",
       "       ... \n",
       "117    5163\n",
       "65     5155\n",
       "15     5119\n",
       "96     4931\n",
       "507     291\n",
       "Name: stationId, Length: 110, dtype: int64"
      ]
     },
     "execution_count": 8,
     "metadata": {},
     "output_type": "execute_result"
    }
   ],
   "source": [
    "# check how many rows per station\n",
    "# station with Id 507 was added much later by JCDecaux so there's a big difference in the number of rows there\n",
    "df_station_updates['stationId'].value_counts(dropna=False)"
   ]
  },
  {
   "cell_type": "code",
   "execution_count": 9,
   "metadata": {},
   "outputs": [
    {
     "data": {
      "text/html": [
       "<div>\n",
       "<style scoped>\n",
       "    .dataframe tbody tr th:only-of-type {\n",
       "        vertical-align: middle;\n",
       "    }\n",
       "\n",
       "    .dataframe tbody tr th {\n",
       "        vertical-align: top;\n",
       "    }\n",
       "\n",
       "    .dataframe thead th {\n",
       "        text-align: right;\n",
       "    }\n",
       "</style>\n",
       "<table border=\"1\" class=\"dataframe\">\n",
       "  <thead>\n",
       "    <tr style=\"text-align: right;\">\n",
       "      <th></th>\n",
       "      <th>stationId</th>\n",
       "      <th>totalStands</th>\n",
       "      <th>availableBikes</th>\n",
       "      <th>freeStands</th>\n",
       "      <th>lastUpdate</th>\n",
       "      <th>mainWeather</th>\n",
       "      <th>temperature</th>\n",
       "      <th>cloudiness</th>\n",
       "      <th>windSpeed</th>\n",
       "      <th>rain</th>\n",
       "      <th>snow</th>\n",
       "    </tr>\n",
       "  </thead>\n",
       "  <tbody>\n",
       "    <tr>\n",
       "      <th>586132</th>\n",
       "      <td>507</td>\n",
       "      <td>1</td>\n",
       "      <td>1</td>\n",
       "      <td>0</td>\n",
       "      <td>2021-03-26 12:05:20</td>\n",
       "      <td>Clouds</td>\n",
       "      <td>6.39</td>\n",
       "      <td>20.0</td>\n",
       "      <td>9.26</td>\n",
       "      <td>0.0</td>\n",
       "      <td>0.0</td>\n",
       "    </tr>\n",
       "    <tr>\n",
       "      <th>586133</th>\n",
       "      <td>507</td>\n",
       "      <td>1</td>\n",
       "      <td>0</td>\n",
       "      <td>1</td>\n",
       "      <td>2021-03-26 12:10:52</td>\n",
       "      <td>Clouds</td>\n",
       "      <td>6.38</td>\n",
       "      <td>20.0</td>\n",
       "      <td>9.26</td>\n",
       "      <td>0.0</td>\n",
       "      <td>0.0</td>\n",
       "    </tr>\n",
       "    <tr>\n",
       "      <th>586134</th>\n",
       "      <td>507</td>\n",
       "      <td>1</td>\n",
       "      <td>0</td>\n",
       "      <td>1</td>\n",
       "      <td>2021-03-26 12:20:58</td>\n",
       "      <td>Clouds</td>\n",
       "      <td>6.46</td>\n",
       "      <td>20.0</td>\n",
       "      <td>6.69</td>\n",
       "      <td>0.0</td>\n",
       "      <td>0.0</td>\n",
       "    </tr>\n",
       "    <tr>\n",
       "      <th>586135</th>\n",
       "      <td>507</td>\n",
       "      <td>1</td>\n",
       "      <td>0</td>\n",
       "      <td>1</td>\n",
       "      <td>2021-03-26 12:32:39</td>\n",
       "      <td>Clouds</td>\n",
       "      <td>6.25</td>\n",
       "      <td>20.0</td>\n",
       "      <td>6.69</td>\n",
       "      <td>0.0</td>\n",
       "      <td>0.0</td>\n",
       "    </tr>\n",
       "    <tr>\n",
       "      <th>586136</th>\n",
       "      <td>507</td>\n",
       "      <td>1</td>\n",
       "      <td>0</td>\n",
       "      <td>1</td>\n",
       "      <td>2021-03-26 12:42:45</td>\n",
       "      <td>Clouds</td>\n",
       "      <td>6.83</td>\n",
       "      <td>40.0</td>\n",
       "      <td>6.69</td>\n",
       "      <td>0.0</td>\n",
       "      <td>0.0</td>\n",
       "    </tr>\n",
       "    <tr>\n",
       "      <th>...</th>\n",
       "      <td>...</td>\n",
       "      <td>...</td>\n",
       "      <td>...</td>\n",
       "      <td>...</td>\n",
       "      <td>...</td>\n",
       "      <td>...</td>\n",
       "      <td>...</td>\n",
       "      <td>...</td>\n",
       "      <td>...</td>\n",
       "      <td>...</td>\n",
       "      <td>...</td>\n",
       "    </tr>\n",
       "    <tr>\n",
       "      <th>586418</th>\n",
       "      <td>507</td>\n",
       "      <td>1</td>\n",
       "      <td>0</td>\n",
       "      <td>1</td>\n",
       "      <td>2021-03-28 12:55:47</td>\n",
       "      <td>Clouds</td>\n",
       "      <td>14.53</td>\n",
       "      <td>75.0</td>\n",
       "      <td>9.26</td>\n",
       "      <td>0.0</td>\n",
       "      <td>0.0</td>\n",
       "    </tr>\n",
       "    <tr>\n",
       "      <th>586419</th>\n",
       "      <td>507</td>\n",
       "      <td>1</td>\n",
       "      <td>1</td>\n",
       "      <td>0</td>\n",
       "      <td>2021-03-28 13:06:21</td>\n",
       "      <td>Clouds</td>\n",
       "      <td>14.71</td>\n",
       "      <td>75.0</td>\n",
       "      <td>9.26</td>\n",
       "      <td>0.0</td>\n",
       "      <td>0.0</td>\n",
       "    </tr>\n",
       "    <tr>\n",
       "      <th>586420</th>\n",
       "      <td>507</td>\n",
       "      <td>1</td>\n",
       "      <td>1</td>\n",
       "      <td>0</td>\n",
       "      <td>2021-03-28 13:13:37</td>\n",
       "      <td>Clouds</td>\n",
       "      <td>14.55</td>\n",
       "      <td>75.0</td>\n",
       "      <td>9.77</td>\n",
       "      <td>0.0</td>\n",
       "      <td>0.0</td>\n",
       "    </tr>\n",
       "    <tr>\n",
       "      <th>586421</th>\n",
       "      <td>507</td>\n",
       "      <td>1</td>\n",
       "      <td>0</td>\n",
       "      <td>1</td>\n",
       "      <td>2021-03-28 13:19:57</td>\n",
       "      <td>Clouds</td>\n",
       "      <td>14.72</td>\n",
       "      <td>75.0</td>\n",
       "      <td>9.77</td>\n",
       "      <td>0.0</td>\n",
       "      <td>0.0</td>\n",
       "    </tr>\n",
       "    <tr>\n",
       "      <th>586422</th>\n",
       "      <td>507</td>\n",
       "      <td>1</td>\n",
       "      <td>1</td>\n",
       "      <td>0</td>\n",
       "      <td>2021-03-28 13:27:20</td>\n",
       "      <td>Clouds</td>\n",
       "      <td>14.72</td>\n",
       "      <td>75.0</td>\n",
       "      <td>9.77</td>\n",
       "      <td>0.0</td>\n",
       "      <td>0.0</td>\n",
       "    </tr>\n",
       "  </tbody>\n",
       "</table>\n",
       "<p>291 rows × 11 columns</p>\n",
       "</div>"
      ],
      "text/plain": [
       "        stationId  totalStands  availableBikes  freeStands  \\\n",
       "586132        507            1               1           0   \n",
       "586133        507            1               0           1   \n",
       "586134        507            1               0           1   \n",
       "586135        507            1               0           1   \n",
       "586136        507            1               0           1   \n",
       "...           ...          ...             ...         ...   \n",
       "586418        507            1               0           1   \n",
       "586419        507            1               1           0   \n",
       "586420        507            1               1           0   \n",
       "586421        507            1               0           1   \n",
       "586422        507            1               1           0   \n",
       "\n",
       "                lastUpdate mainWeather  temperature  cloudiness  windSpeed  \\\n",
       "586132 2021-03-26 12:05:20      Clouds         6.39        20.0       9.26   \n",
       "586133 2021-03-26 12:10:52      Clouds         6.38        20.0       9.26   \n",
       "586134 2021-03-26 12:20:58      Clouds         6.46        20.0       6.69   \n",
       "586135 2021-03-26 12:32:39      Clouds         6.25        20.0       6.69   \n",
       "586136 2021-03-26 12:42:45      Clouds         6.83        40.0       6.69   \n",
       "...                    ...         ...          ...         ...        ...   \n",
       "586418 2021-03-28 12:55:47      Clouds        14.53        75.0       9.26   \n",
       "586419 2021-03-28 13:06:21      Clouds        14.71        75.0       9.26   \n",
       "586420 2021-03-28 13:13:37      Clouds        14.55        75.0       9.77   \n",
       "586421 2021-03-28 13:19:57      Clouds        14.72        75.0       9.77   \n",
       "586422 2021-03-28 13:27:20      Clouds        14.72        75.0       9.77   \n",
       "\n",
       "        rain  snow  \n",
       "586132   0.0   0.0  \n",
       "586133   0.0   0.0  \n",
       "586134   0.0   0.0  \n",
       "586135   0.0   0.0  \n",
       "586136   0.0   0.0  \n",
       "...      ...   ...  \n",
       "586418   0.0   0.0  \n",
       "586419   0.0   0.0  \n",
       "586420   0.0   0.0  \n",
       "586421   0.0   0.0  \n",
       "586422   0.0   0.0  \n",
       "\n",
       "[291 rows x 11 columns]"
      ]
     },
     "execution_count": 9,
     "metadata": {},
     "output_type": "execute_result"
    }
   ],
   "source": [
    "df_station_updates.loc[df_station_updates['stationId'] == 507]"
   ]
  },
  {
   "cell_type": "code",
   "execution_count": 10,
   "metadata": {},
   "outputs": [],
   "source": [
    "# checked below while calculating average availability that station 507 is missing some days/hours which could cause problems\n",
    "# drop rows with stationId 507 since availability is either 1 or 0 and there is no data for some weekdays hours\n",
    "df_station_updates = df_station_updates[df_station_updates.stationId != 507]"
   ]
  },
  {
   "cell_type": "code",
   "execution_count": 11,
   "metadata": {},
   "outputs": [
    {
     "data": {
      "text/html": [
       "<div>\n",
       "<style scoped>\n",
       "    .dataframe tbody tr th:only-of-type {\n",
       "        vertical-align: middle;\n",
       "    }\n",
       "\n",
       "    .dataframe tbody tr th {\n",
       "        vertical-align: top;\n",
       "    }\n",
       "\n",
       "    .dataframe thead th {\n",
       "        text-align: right;\n",
       "    }\n",
       "</style>\n",
       "<table border=\"1\" class=\"dataframe\">\n",
       "  <thead>\n",
       "    <tr style=\"text-align: right;\">\n",
       "      <th></th>\n",
       "      <th>stationId</th>\n",
       "      <th>totalStands</th>\n",
       "      <th>availableBikes</th>\n",
       "      <th>freeStands</th>\n",
       "      <th>lastUpdate</th>\n",
       "      <th>mainWeather</th>\n",
       "      <th>temperature</th>\n",
       "      <th>cloudiness</th>\n",
       "      <th>windSpeed</th>\n",
       "      <th>rain</th>\n",
       "      <th>snow</th>\n",
       "    </tr>\n",
       "  </thead>\n",
       "  <tbody>\n",
       "  </tbody>\n",
       "</table>\n",
       "</div>"
      ],
      "text/plain": [
       "Empty DataFrame\n",
       "Columns: [stationId, totalStands, availableBikes, freeStands, lastUpdate, mainWeather, temperature, cloudiness, windSpeed, rain, snow]\n",
       "Index: []"
      ]
     },
     "execution_count": 11,
     "metadata": {},
     "output_type": "execute_result"
    }
   ],
   "source": [
    "# check rows were dropped\n",
    "df_station_updates.loc[df_station_updates['stationId'] == 507]"
   ]
  },
  {
   "cell_type": "code",
   "execution_count": 12,
   "metadata": {},
   "outputs": [
    {
     "data": {
      "text/plain": [
       "(586132, 11)"
      ]
     },
     "execution_count": 12,
     "metadata": {},
     "output_type": "execute_result"
    }
   ],
   "source": [
    "df_station_updates.shape"
   ]
  },
  {
   "cell_type": "code",
   "execution_count": 13,
   "metadata": {},
   "outputs": [
    {
     "data": {
      "text/plain": [
       "109"
      ]
     },
     "execution_count": 13,
     "metadata": {},
     "output_type": "execute_result"
    }
   ],
   "source": [
    "# check number of stations - looks correct, there were 109 stations before station with Id 507 was added by JCDecaux later on\n",
    "df_station_updates['stationId'].nunique()"
   ]
  },
  {
   "cell_type": "markdown",
   "metadata": {},
   "source": [
    "## Features Engineering"
   ]
  },
  {
   "cell_type": "code",
   "execution_count": 14,
   "metadata": {
    "scrolled": true
   },
   "outputs": [
    {
     "data": {
      "text/plain": [
       "stationId                  int64\n",
       "totalStands                int64\n",
       "availableBikes             int64\n",
       "freeStands                 int64\n",
       "lastUpdate        datetime64[ns]\n",
       "mainWeather               object\n",
       "temperature              float64\n",
       "cloudiness               float64\n",
       "windSpeed                float64\n",
       "rain                     float64\n",
       "snow                     float64\n",
       "dtype: object"
      ]
     },
     "execution_count": 14,
     "metadata": {},
     "output_type": "execute_result"
    }
   ],
   "source": [
    "df_station_updates.dtypes"
   ]
  },
  {
   "cell_type": "code",
   "execution_count": 15,
   "metadata": {},
   "outputs": [],
   "source": [
    "# stationId into type 'object'\n",
    "df_station_updates['stationId'] = df_station_updates['stationId'].astype('object')"
   ]
  },
  {
   "cell_type": "markdown",
   "metadata": {},
   "source": [
    "### Adding weekday feature"
   ]
  },
  {
   "cell_type": "code",
   "execution_count": 16,
   "metadata": {
    "scrolled": false
   },
   "outputs": [
    {
     "data": {
      "text/html": [
       "<div>\n",
       "<style scoped>\n",
       "    .dataframe tbody tr th:only-of-type {\n",
       "        vertical-align: middle;\n",
       "    }\n",
       "\n",
       "    .dataframe tbody tr th {\n",
       "        vertical-align: top;\n",
       "    }\n",
       "\n",
       "    .dataframe thead th {\n",
       "        text-align: right;\n",
       "    }\n",
       "</style>\n",
       "<table border=\"1\" class=\"dataframe\">\n",
       "  <thead>\n",
       "    <tr style=\"text-align: right;\">\n",
       "      <th></th>\n",
       "      <th>lastUpdate</th>\n",
       "      <th>weekday</th>\n",
       "    </tr>\n",
       "  </thead>\n",
       "  <tbody>\n",
       "    <tr>\n",
       "      <th>0</th>\n",
       "      <td>2021-02-27 17:35:14</td>\n",
       "      <td>Saturday</td>\n",
       "    </tr>\n",
       "    <tr>\n",
       "      <th>1</th>\n",
       "      <td>2021-02-27 17:45:23</td>\n",
       "      <td>Saturday</td>\n",
       "    </tr>\n",
       "    <tr>\n",
       "      <th>2</th>\n",
       "      <td>2021-02-27 17:55:32</td>\n",
       "      <td>Saturday</td>\n",
       "    </tr>\n",
       "    <tr>\n",
       "      <th>3</th>\n",
       "      <td>2021-02-27 18:00:42</td>\n",
       "      <td>Saturday</td>\n",
       "    </tr>\n",
       "    <tr>\n",
       "      <th>4</th>\n",
       "      <td>2021-02-27 18:10:51</td>\n",
       "      <td>Saturday</td>\n",
       "    </tr>\n",
       "  </tbody>\n",
       "</table>\n",
       "</div>"
      ],
      "text/plain": [
       "           lastUpdate   weekday\n",
       "0 2021-02-27 17:35:14  Saturday\n",
       "1 2021-02-27 17:45:23  Saturday\n",
       "2 2021-02-27 17:55:32  Saturday\n",
       "3 2021-02-27 18:00:42  Saturday\n",
       "4 2021-02-27 18:10:51  Saturday"
      ]
     },
     "execution_count": 16,
     "metadata": {},
     "output_type": "execute_result"
    }
   ],
   "source": [
    "# series.dt.dayofweek attribute returns a numpy array containing the day of the week of the DateTime variable with Monday = 0 & Sunday = 6\n",
    "df_station_updates['weekday'] = df_station_updates['lastUpdate'].dt.day_name()\n",
    "df_station_updates[['lastUpdate','weekday']].head()"
   ]
  },
  {
   "cell_type": "markdown",
   "metadata": {},
   "source": [
    "**Encoding categorical features with `get_dummies`**"
   ]
  },
  {
   "cell_type": "code",
   "execution_count": 17,
   "metadata": {},
   "outputs": [
    {
     "name": "stdout",
     "output_type": "stream",
     "text": [
      "Weekday Dummies:         weekday_Monday  weekday_Saturday  weekday_Sunday  weekday_Thursday  \\\n",
      "0                    0                 1               0                 0   \n",
      "1                    0                 1               0                 0   \n",
      "2                    0                 1               0                 0   \n",
      "3                    0                 1               0                 0   \n",
      "4                    0                 1               0                 0   \n",
      "...                ...               ...             ...               ...   \n",
      "586127               0                 0               0                 0   \n",
      "586128               0                 0               0                 0   \n",
      "586129               0                 0               0                 0   \n",
      "586130               0                 0               0                 0   \n",
      "586131               0                 0               0                 0   \n",
      "\n",
      "        weekday_Tuesday  weekday_Wednesday  \n",
      "0                     0                  0  \n",
      "1                     0                  0  \n",
      "2                     0                  0  \n",
      "3                     0                  0  \n",
      "4                     0                  0  \n",
      "...                 ...                ...  \n",
      "586127                0                  1  \n",
      "586128                0                  1  \n",
      "586129                0                  1  \n",
      "586130                0                  1  \n",
      "586131                0                  1  \n",
      "\n",
      "[586132 rows x 6 columns]\n"
     ]
    }
   ],
   "source": [
    "weekday_dummies = pd.get_dummies(df_station_updates['weekday'], prefix='weekday', drop_first=True)\n",
    "print(\"Weekday Dummies:\", weekday_dummies)"
   ]
  },
  {
   "cell_type": "code",
   "execution_count": 18,
   "metadata": {},
   "outputs": [
    {
     "data": {
      "text/plain": [
       "array(['Saturday', 'Sunday', 'Monday', 'Wednesday', 'Thursday', 'Friday',\n",
       "       'Tuesday'], dtype=object)"
      ]
     },
     "execution_count": 18,
     "metadata": {},
     "output_type": "execute_result"
    }
   ],
   "source": [
    "df_station_updates['weekday'].unique()"
   ]
  },
  {
   "cell_type": "markdown",
   "metadata": {},
   "source": [
    "### Adding fullHour feature"
   ]
  },
  {
   "cell_type": "code",
   "execution_count": 19,
   "metadata": {
    "scrolled": true
   },
   "outputs": [
    {
     "data": {
      "text/html": [
       "<div>\n",
       "<style scoped>\n",
       "    .dataframe tbody tr th:only-of-type {\n",
       "        vertical-align: middle;\n",
       "    }\n",
       "\n",
       "    .dataframe tbody tr th {\n",
       "        vertical-align: top;\n",
       "    }\n",
       "\n",
       "    .dataframe thead th {\n",
       "        text-align: right;\n",
       "    }\n",
       "</style>\n",
       "<table border=\"1\" class=\"dataframe\">\n",
       "  <thead>\n",
       "    <tr style=\"text-align: right;\">\n",
       "      <th></th>\n",
       "      <th>lastUpdate</th>\n",
       "      <th>fullHour</th>\n",
       "    </tr>\n",
       "  </thead>\n",
       "  <tbody>\n",
       "    <tr>\n",
       "      <th>0</th>\n",
       "      <td>2021-02-27 17:35:14</td>\n",
       "      <td>17</td>\n",
       "    </tr>\n",
       "    <tr>\n",
       "      <th>1</th>\n",
       "      <td>2021-02-27 17:45:23</td>\n",
       "      <td>17</td>\n",
       "    </tr>\n",
       "    <tr>\n",
       "      <th>2</th>\n",
       "      <td>2021-02-27 17:55:32</td>\n",
       "      <td>17</td>\n",
       "    </tr>\n",
       "    <tr>\n",
       "      <th>3</th>\n",
       "      <td>2021-02-27 18:00:42</td>\n",
       "      <td>18</td>\n",
       "    </tr>\n",
       "    <tr>\n",
       "      <th>4</th>\n",
       "      <td>2021-02-27 18:10:51</td>\n",
       "      <td>18</td>\n",
       "    </tr>\n",
       "  </tbody>\n",
       "</table>\n",
       "</div>"
      ],
      "text/plain": [
       "           lastUpdate  fullHour\n",
       "0 2021-02-27 17:35:14        17\n",
       "1 2021-02-27 17:45:23        17\n",
       "2 2021-02-27 17:55:32        17\n",
       "3 2021-02-27 18:00:42        18\n",
       "4 2021-02-27 18:10:51        18"
      ]
     },
     "execution_count": 19,
     "metadata": {},
     "output_type": "execute_result"
    }
   ],
   "source": [
    "df_station_updates['fullHour'] = df_station_updates['lastUpdate'].dt.hour\n",
    "df_station_updates[['lastUpdate','fullHour']].head()    "
   ]
  },
  {
   "cell_type": "markdown",
   "metadata": {},
   "source": [
    "**Since `fullHour` is cyclical data we need to transform that feature so that it will be interpreted that way by the model**\n",
    "\n",
    "- transform feature fullHour in features:\n",
    "    - sin_hour --> sin(hour)\n",
    "    - cos_hour --> cos(hour)"
   ]
  },
  {
   "cell_type": "code",
   "execution_count": 20,
   "metadata": {},
   "outputs": [],
   "source": [
    "df_station_updates['hour_sin'] = np.sin(2 * np.pi * df_station_updates['fullHour']/23.0)\n",
    "df_station_updates['hour_cos'] = np.cos(2 * np.pi * df_station_updates['fullHour']/23.0)"
   ]
  },
  {
   "cell_type": "code",
   "execution_count": 21,
   "metadata": {},
   "outputs": [
    {
     "data": {
      "image/png": "[encoded data removed]",
      "text/plain": [
       "<Figure size 432x288 with 1 Axes>"
      ]
     },
     "metadata": {
      "needs_background": "light"
     },
     "output_type": "display_data"
    }
   ],
   "source": [
    "# check with a scatter plot of the two new features if the encoding is correct\n",
    "df_station_updates.plot.scatter('hour_sin', 'hour_cos').set_aspect('equal')"
   ]
  },
  {
   "cell_type": "markdown",
   "metadata": {},
   "source": [
    "### Encoding MainWeather"
   ]
  },
  {
   "cell_type": "code",
   "execution_count": 22,
   "metadata": {},
   "outputs": [
    {
     "name": "stdout",
     "output_type": "stream",
     "text": [
      "Main Weather Dummies:         mainWeather_Clouds  mainWeather_Drizzle  mainWeather_Fog  \\\n",
      "0                        1                    0                0   \n",
      "1                        1                    0                0   \n",
      "2                        1                    0                0   \n",
      "3                        1                    0                0   \n",
      "4                        1                    0                0   \n",
      "...                    ...                  ...              ...   \n",
      "586127                   1                    0                0   \n",
      "586128                   1                    0                0   \n",
      "586129                   1                    0                0   \n",
      "586130                   1                    0                0   \n",
      "586131                   1                    0                0   \n",
      "\n",
      "        mainWeather_Mist  mainWeather_Rain  mainWeather_Snow  \n",
      "0                      0                 0                 0  \n",
      "1                      0                 0                 0  \n",
      "2                      0                 0                 0  \n",
      "3                      0                 0                 0  \n",
      "4                      0                 0                 0  \n",
      "...                  ...               ...               ...  \n",
      "586127                 0                 0                 0  \n",
      "586128                 0                 0                 0  \n",
      "586129                 0                 0                 0  \n",
      "586130                 0                 0                 0  \n",
      "586131                 0                 0                 0  \n",
      "\n",
      "[586132 rows x 6 columns]\n"
     ]
    }
   ],
   "source": [
    "mainWeather_dummies = pd.get_dummies(df_station_updates['mainWeather'], prefix='mainWeather', drop_first=True)\n",
    "print(\"Main Weather Dummies:\", mainWeather_dummies)"
   ]
  },
  {
   "cell_type": "markdown",
   "metadata": {},
   "source": [
    "### Preparing features for training"
   ]
  },
  {
   "cell_type": "code",
   "execution_count": 23,
   "metadata": {},
   "outputs": [],
   "source": [
    "# Continous features for training\n",
    "cont_features = ['temperature', 'cloudiness', 'windSpeed', 'rain', 'snow', 'hour_sin', 'hour_cos']"
   ]
  },
  {
   "cell_type": "code",
   "execution_count": 24,
   "metadata": {},
   "outputs": [
    {
     "data": {
      "text/plain": [
       "['weekday_Monday',\n",
       " 'weekday_Saturday',\n",
       " 'weekday_Sunday',\n",
       " 'weekday_Thursday',\n",
       " 'weekday_Tuesday',\n",
       " 'weekday_Wednesday',\n",
       " 'mainWeather_Clouds',\n",
       " 'mainWeather_Drizzle',\n",
       " 'mainWeather_Fog',\n",
       " 'mainWeather_Mist',\n",
       " 'mainWeather_Rain',\n",
       " 'mainWeather_Snow']"
      ]
     },
     "execution_count": 24,
     "metadata": {},
     "output_type": "execute_result"
    }
   ],
   "source": [
    "# Categorical features for training\n",
    "categ_features = weekday_dummies.columns.values.tolist() + mainWeather_dummies.columns.values.tolist()\n",
    "categ_features"
   ]
  },
  {
   "cell_type": "code",
   "execution_count": 25,
   "metadata": {
    "scrolled": true
   },
   "outputs": [
    {
     "name": "stdout",
     "output_type": "stream",
     "text": [
      "\n",
      "Cont features:  ['temperature', 'cloudiness', 'windSpeed', 'rain', 'snow', 'hour_sin', 'hour_cos']\n",
      "Categ features:  ['weekday_Monday', 'weekday_Saturday', 'weekday_Sunday', 'weekday_Thursday', 'weekday_Tuesday', 'weekday_Wednesday', 'mainWeather_Clouds', 'mainWeather_Drizzle', 'mainWeather_Fog', 'mainWeather_Mist', 'mainWeather_Rain', 'mainWeather_Snow']\n",
      "Features:  ['temperature', 'cloudiness', 'windSpeed', 'rain', 'snow', 'hour_sin', 'hour_cos', 'weekday_Monday', 'weekday_Saturday', 'weekday_Sunday', 'weekday_Thursday', 'weekday_Tuesday', 'weekday_Wednesday', 'mainWeather_Clouds', 'mainWeather_Drizzle', 'mainWeather_Fog', 'mainWeather_Mist', 'mainWeather_Rain', 'mainWeather_Snow']\n"
     ]
    }
   ],
   "source": [
    "# add all features together\n",
    "all_features = cont_features + categ_features\n",
    "print(\"\\nCont features: \", cont_features)\n",
    "print(\"Categ features: \", categ_features)\n",
    "print(\"Features: \", all_features)"
   ]
  },
  {
   "cell_type": "markdown",
   "metadata": {},
   "source": [
    "### Creating features lists"
   ]
  },
  {
   "cell_type": "code",
   "execution_count": 26,
   "metadata": {},
   "outputs": [
    {
     "name": "stdout",
     "output_type": "stream",
     "text": [
      "[2, 3, 4, 5, 6, 7, 8, 9, 10, 11, 12, 13, 15, 16, 17, 18, 19, 21, 22, 23, 24, 25, 26, 27, 28, 29, 30, 31, 32, 33, 34, 36, 37, 38, 39, 40, 41, 42, 43, 44, 45, 47, 48, 49, 50, 51, 52, 53, 54, 55, 56, 57, 58, 59, 61, 62, 63, 64, 65, 66, 67, 68, 69, 71, 72, 73, 74, 75, 76, 77, 78, 79, 80, 82, 83, 84, 85, 86, 87, 88, 89, 90, 91, 92, 93, 94, 95, 96, 97, 98, 99, 100, 101, 102, 103, 104, 105, 106, 107, 108, 109, 110, 111, 112, 113, 114, 115, 116, 117]\n"
     ]
    }
   ],
   "source": [
    "# get all station Ids in a list\n",
    "station_id_list = df_station_updates['stationId'].unique().tolist()\n",
    "print(station_id_list)"
   ]
  },
  {
   "cell_type": "code",
   "execution_count": 27,
   "metadata": {},
   "outputs": [
    {
     "name": "stdout",
     "output_type": "stream",
     "text": [
      "[0, 1, 2, 3, 4, 5, 6, 7, 8, 9, 10, 11, 12, 13, 14, 15, 16, 17, 18, 19, 20, 21, 22, 23]\n"
     ]
    }
   ],
   "source": [
    "# doublecheck hours - looks good, 24 different full hours\n",
    "# get hours in list sorted --> used to calculate average availability below\n",
    "full_hour_list = df_station_updates['fullHour'].value_counts().index.sort_values().tolist()\n",
    "print(full_hour_list)"
   ]
  },
  {
   "cell_type": "code",
   "execution_count": 28,
   "metadata": {},
   "outputs": [
    {
     "name": "stdout",
     "output_type": "stream",
     "text": [
      "['Sunday', 'Monday', 'Saturday', 'Tuesday', 'Friday', 'Wednesday', 'Thursday']\n"
     ]
    }
   ],
   "source": [
    "# get weekdays in list --> used to calculate average availability below\n",
    "weekdays_list = df_station_updates['weekday'].value_counts().index.tolist()\n",
    "print(weekdays_list)"
   ]
  },
  {
   "cell_type": "markdown",
   "metadata": {},
   "source": [
    "### Store feature lists to open in other notebook"
   ]
  },
  {
   "cell_type": "code",
   "execution_count": 29,
   "metadata": {},
   "outputs": [
    {
     "name": "stdout",
     "output_type": "stream",
     "text": [
      "Stored 'categ_features' (list)\n",
      "Stored 'cont_features' (list)\n",
      "Stored 'all_features' (list)\n",
      "Stored 'station_id_list' (list)\n",
      "Stored 'full_hour_list' (list)\n",
      "Stored 'weekdays_list' (list)\n"
     ]
    }
   ],
   "source": [
    "%store categ_features cont_features all_features station_id_list full_hour_list weekdays_list"
   ]
  },
  {
   "cell_type": "markdown",
   "metadata": {},
   "source": [
    "### Finalise dataframe with new and encoded features"
   ]
  },
  {
   "cell_type": "code",
   "execution_count": 30,
   "metadata": {},
   "outputs": [],
   "source": [
    "# add encoded features to dataframe\n",
    "df_station_updates_all_features = pd.get_dummies(df_station_updates, columns=['mainWeather', 'weekday'], drop_first=True)"
   ]
  },
  {
   "cell_type": "code",
   "execution_count": 31,
   "metadata": {
    "scrolled": true
   },
   "outputs": [
    {
     "name": "stdout",
     "output_type": "stream",
     "text": [
      "<class 'pandas.core.frame.DataFrame'>\n",
      "Int64Index: 586132 entries, 0 to 586131\n",
      "Data columns (total 25 columns):\n",
      " #   Column               Non-Null Count   Dtype         \n",
      "---  ------               --------------   -----         \n",
      " 0   stationId            586132 non-null  object        \n",
      " 1   totalStands          586132 non-null  int64         \n",
      " 2   availableBikes       586132 non-null  int64         \n",
      " 3   freeStands           586132 non-null  int64         \n",
      " 4   lastUpdate           586132 non-null  datetime64[ns]\n",
      " 5   temperature          586132 non-null  float64       \n",
      " 6   cloudiness           586132 non-null  float64       \n",
      " 7   windSpeed            586132 non-null  float64       \n",
      " 8   rain                 586132 non-null  float64       \n",
      " 9   snow                 586132 non-null  float64       \n",
      " 10  fullHour             586132 non-null  int64         \n",
      " 11  hour_sin             586132 non-null  float64       \n",
      " 12  hour_cos             586132 non-null  float64       \n",
      " 13  mainWeather_Clouds   586132 non-null  uint8         \n",
      " 14  mainWeather_Drizzle  586132 non-null  uint8         \n",
      " 15  mainWeather_Fog      586132 non-null  uint8         \n",
      " 16  mainWeather_Mist     586132 non-null  uint8         \n",
      " 17  mainWeather_Rain     586132 non-null  uint8         \n",
      " 18  mainWeather_Snow     586132 non-null  uint8         \n",
      " 19  weekday_Monday       586132 non-null  uint8         \n",
      " 20  weekday_Saturday     586132 non-null  uint8         \n",
      " 21  weekday_Sunday       586132 non-null  uint8         \n",
      " 22  weekday_Thursday     586132 non-null  uint8         \n",
      " 23  weekday_Tuesday      586132 non-null  uint8         \n",
      " 24  weekday_Wednesday    586132 non-null  uint8         \n",
      "dtypes: datetime64[ns](1), float64(7), int64(4), object(1), uint8(12)\n",
      "memory usage: 69.3+ MB\n"
     ]
    }
   ],
   "source": [
    "df_station_updates_all_features.info()"
   ]
  },
  {
   "cell_type": "code",
   "execution_count": 32,
   "metadata": {
    "scrolled": false
   },
   "outputs": [
    {
     "data": {
      "text/html": [
       "<div>\n",
       "<style scoped>\n",
       "    .dataframe tbody tr th:only-of-type {\n",
       "        vertical-align: middle;\n",
       "    }\n",
       "\n",
       "    .dataframe tbody tr th {\n",
       "        vertical-align: top;\n",
       "    }\n",
       "\n",
       "    .dataframe thead th {\n",
       "        text-align: right;\n",
       "    }\n",
       "</style>\n",
       "<table border=\"1\" class=\"dataframe\">\n",
       "  <thead>\n",
       "    <tr style=\"text-align: right;\">\n",
       "      <th></th>\n",
       "      <th>stationId</th>\n",
       "      <th>totalStands</th>\n",
       "      <th>availableBikes</th>\n",
       "      <th>freeStands</th>\n",
       "      <th>lastUpdate</th>\n",
       "      <th>temperature</th>\n",
       "      <th>cloudiness</th>\n",
       "      <th>windSpeed</th>\n",
       "      <th>rain</th>\n",
       "      <th>snow</th>\n",
       "      <th>...</th>\n",
       "      <th>mainWeather_Fog</th>\n",
       "      <th>mainWeather_Mist</th>\n",
       "      <th>mainWeather_Rain</th>\n",
       "      <th>mainWeather_Snow</th>\n",
       "      <th>weekday_Monday</th>\n",
       "      <th>weekday_Saturday</th>\n",
       "      <th>weekday_Sunday</th>\n",
       "      <th>weekday_Thursday</th>\n",
       "      <th>weekday_Tuesday</th>\n",
       "      <th>weekday_Wednesday</th>\n",
       "    </tr>\n",
       "  </thead>\n",
       "  <tbody>\n",
       "    <tr>\n",
       "      <th>0</th>\n",
       "      <td>2</td>\n",
       "      <td>20</td>\n",
       "      <td>10</td>\n",
       "      <td>10</td>\n",
       "      <td>2021-02-27 17:35:14</td>\n",
       "      <td>9.34</td>\n",
       "      <td>75.0</td>\n",
       "      <td>2.57</td>\n",
       "      <td>0.0</td>\n",
       "      <td>0.0</td>\n",
       "      <td>...</td>\n",
       "      <td>0</td>\n",
       "      <td>0</td>\n",
       "      <td>0</td>\n",
       "      <td>0</td>\n",
       "      <td>0</td>\n",
       "      <td>1</td>\n",
       "      <td>0</td>\n",
       "      <td>0</td>\n",
       "      <td>0</td>\n",
       "      <td>0</td>\n",
       "    </tr>\n",
       "    <tr>\n",
       "      <th>1</th>\n",
       "      <td>2</td>\n",
       "      <td>20</td>\n",
       "      <td>10</td>\n",
       "      <td>10</td>\n",
       "      <td>2021-02-27 17:45:23</td>\n",
       "      <td>9.20</td>\n",
       "      <td>75.0</td>\n",
       "      <td>1.03</td>\n",
       "      <td>0.0</td>\n",
       "      <td>0.0</td>\n",
       "      <td>...</td>\n",
       "      <td>0</td>\n",
       "      <td>0</td>\n",
       "      <td>0</td>\n",
       "      <td>0</td>\n",
       "      <td>0</td>\n",
       "      <td>1</td>\n",
       "      <td>0</td>\n",
       "      <td>0</td>\n",
       "      <td>0</td>\n",
       "      <td>0</td>\n",
       "    </tr>\n",
       "    <tr>\n",
       "      <th>2</th>\n",
       "      <td>2</td>\n",
       "      <td>20</td>\n",
       "      <td>10</td>\n",
       "      <td>10</td>\n",
       "      <td>2021-02-27 17:55:32</td>\n",
       "      <td>9.48</td>\n",
       "      <td>75.0</td>\n",
       "      <td>1.03</td>\n",
       "      <td>0.0</td>\n",
       "      <td>0.0</td>\n",
       "      <td>...</td>\n",
       "      <td>0</td>\n",
       "      <td>0</td>\n",
       "      <td>0</td>\n",
       "      <td>0</td>\n",
       "      <td>0</td>\n",
       "      <td>1</td>\n",
       "      <td>0</td>\n",
       "      <td>0</td>\n",
       "      <td>0</td>\n",
       "      <td>0</td>\n",
       "    </tr>\n",
       "    <tr>\n",
       "      <th>3</th>\n",
       "      <td>2</td>\n",
       "      <td>20</td>\n",
       "      <td>11</td>\n",
       "      <td>9</td>\n",
       "      <td>2021-02-27 18:00:42</td>\n",
       "      <td>9.22</td>\n",
       "      <td>75.0</td>\n",
       "      <td>1.03</td>\n",
       "      <td>0.0</td>\n",
       "      <td>0.0</td>\n",
       "      <td>...</td>\n",
       "      <td>0</td>\n",
       "      <td>0</td>\n",
       "      <td>0</td>\n",
       "      <td>0</td>\n",
       "      <td>0</td>\n",
       "      <td>1</td>\n",
       "      <td>0</td>\n",
       "      <td>0</td>\n",
       "      <td>0</td>\n",
       "      <td>0</td>\n",
       "    </tr>\n",
       "    <tr>\n",
       "      <th>4</th>\n",
       "      <td>2</td>\n",
       "      <td>20</td>\n",
       "      <td>11</td>\n",
       "      <td>9</td>\n",
       "      <td>2021-02-27 18:10:51</td>\n",
       "      <td>8.85</td>\n",
       "      <td>75.0</td>\n",
       "      <td>0.51</td>\n",
       "      <td>0.0</td>\n",
       "      <td>0.0</td>\n",
       "      <td>...</td>\n",
       "      <td>0</td>\n",
       "      <td>0</td>\n",
       "      <td>0</td>\n",
       "      <td>0</td>\n",
       "      <td>0</td>\n",
       "      <td>1</td>\n",
       "      <td>0</td>\n",
       "      <td>0</td>\n",
       "      <td>0</td>\n",
       "      <td>0</td>\n",
       "    </tr>\n",
       "    <tr>\n",
       "      <th>5</th>\n",
       "      <td>2</td>\n",
       "      <td>20</td>\n",
       "      <td>11</td>\n",
       "      <td>9</td>\n",
       "      <td>2021-02-27 18:20:59</td>\n",
       "      <td>8.76</td>\n",
       "      <td>75.0</td>\n",
       "      <td>0.51</td>\n",
       "      <td>0.0</td>\n",
       "      <td>0.0</td>\n",
       "      <td>...</td>\n",
       "      <td>0</td>\n",
       "      <td>0</td>\n",
       "      <td>0</td>\n",
       "      <td>0</td>\n",
       "      <td>0</td>\n",
       "      <td>1</td>\n",
       "      <td>0</td>\n",
       "      <td>0</td>\n",
       "      <td>0</td>\n",
       "      <td>0</td>\n",
       "    </tr>\n",
       "    <tr>\n",
       "      <th>6</th>\n",
       "      <td>2</td>\n",
       "      <td>20</td>\n",
       "      <td>11</td>\n",
       "      <td>9</td>\n",
       "      <td>2021-02-27 18:31:08</td>\n",
       "      <td>8.52</td>\n",
       "      <td>75.0</td>\n",
       "      <td>0.51</td>\n",
       "      <td>0.0</td>\n",
       "      <td>0.0</td>\n",
       "      <td>...</td>\n",
       "      <td>0</td>\n",
       "      <td>0</td>\n",
       "      <td>0</td>\n",
       "      <td>0</td>\n",
       "      <td>0</td>\n",
       "      <td>1</td>\n",
       "      <td>0</td>\n",
       "      <td>0</td>\n",
       "      <td>0</td>\n",
       "      <td>0</td>\n",
       "    </tr>\n",
       "    <tr>\n",
       "      <th>7</th>\n",
       "      <td>2</td>\n",
       "      <td>20</td>\n",
       "      <td>11</td>\n",
       "      <td>9</td>\n",
       "      <td>2021-02-27 18:41:17</td>\n",
       "      <td>8.17</td>\n",
       "      <td>75.0</td>\n",
       "      <td>1.03</td>\n",
       "      <td>0.0</td>\n",
       "      <td>0.0</td>\n",
       "      <td>...</td>\n",
       "      <td>0</td>\n",
       "      <td>0</td>\n",
       "      <td>0</td>\n",
       "      <td>0</td>\n",
       "      <td>0</td>\n",
       "      <td>1</td>\n",
       "      <td>0</td>\n",
       "      <td>0</td>\n",
       "      <td>0</td>\n",
       "      <td>0</td>\n",
       "    </tr>\n",
       "    <tr>\n",
       "      <th>8</th>\n",
       "      <td>2</td>\n",
       "      <td>20</td>\n",
       "      <td>11</td>\n",
       "      <td>9</td>\n",
       "      <td>2021-02-27 18:51:25</td>\n",
       "      <td>8.26</td>\n",
       "      <td>75.0</td>\n",
       "      <td>2.06</td>\n",
       "      <td>0.0</td>\n",
       "      <td>0.0</td>\n",
       "      <td>...</td>\n",
       "      <td>0</td>\n",
       "      <td>0</td>\n",
       "      <td>0</td>\n",
       "      <td>0</td>\n",
       "      <td>0</td>\n",
       "      <td>1</td>\n",
       "      <td>0</td>\n",
       "      <td>0</td>\n",
       "      <td>0</td>\n",
       "      <td>0</td>\n",
       "    </tr>\n",
       "    <tr>\n",
       "      <th>9</th>\n",
       "      <td>2</td>\n",
       "      <td>20</td>\n",
       "      <td>11</td>\n",
       "      <td>9</td>\n",
       "      <td>2021-02-27 19:01:34</td>\n",
       "      <td>8.01</td>\n",
       "      <td>75.0</td>\n",
       "      <td>1.03</td>\n",
       "      <td>0.0</td>\n",
       "      <td>0.0</td>\n",
       "      <td>...</td>\n",
       "      <td>0</td>\n",
       "      <td>0</td>\n",
       "      <td>0</td>\n",
       "      <td>0</td>\n",
       "      <td>0</td>\n",
       "      <td>1</td>\n",
       "      <td>0</td>\n",
       "      <td>0</td>\n",
       "      <td>0</td>\n",
       "      <td>0</td>\n",
       "    </tr>\n",
       "  </tbody>\n",
       "</table>\n",
       "<p>10 rows × 25 columns</p>\n",
       "</div>"
      ],
      "text/plain": [
       "  stationId  totalStands  availableBikes  freeStands          lastUpdate  \\\n",
       "0         2           20              10          10 2021-02-27 17:35:14   \n",
       "1         2           20              10          10 2021-02-27 17:45:23   \n",
       "2         2           20              10          10 2021-02-27 17:55:32   \n",
       "3         2           20              11           9 2021-02-27 18:00:42   \n",
       "4         2           20              11           9 2021-02-27 18:10:51   \n",
       "5         2           20              11           9 2021-02-27 18:20:59   \n",
       "6         2           20              11           9 2021-02-27 18:31:08   \n",
       "7         2           20              11           9 2021-02-27 18:41:17   \n",
       "8         2           20              11           9 2021-02-27 18:51:25   \n",
       "9         2           20              11           9 2021-02-27 19:01:34   \n",
       "\n",
       "   temperature  cloudiness  windSpeed  rain  snow  ...  mainWeather_Fog  \\\n",
       "0         9.34        75.0       2.57   0.0   0.0  ...                0   \n",
       "1         9.20        75.0       1.03   0.0   0.0  ...                0   \n",
       "2         9.48        75.0       1.03   0.0   0.0  ...                0   \n",
       "3         9.22        75.0       1.03   0.0   0.0  ...                0   \n",
       "4         8.85        75.0       0.51   0.0   0.0  ...                0   \n",
       "5         8.76        75.0       0.51   0.0   0.0  ...                0   \n",
       "6         8.52        75.0       0.51   0.0   0.0  ...                0   \n",
       "7         8.17        75.0       1.03   0.0   0.0  ...                0   \n",
       "8         8.26        75.0       2.06   0.0   0.0  ...                0   \n",
       "9         8.01        75.0       1.03   0.0   0.0  ...                0   \n",
       "\n",
       "   mainWeather_Mist  mainWeather_Rain  mainWeather_Snow  weekday_Monday  \\\n",
       "0                 0                 0                 0               0   \n",
       "1                 0                 0                 0               0   \n",
       "2                 0                 0                 0               0   \n",
       "3                 0                 0                 0               0   \n",
       "4                 0                 0                 0               0   \n",
       "5                 0                 0                 0               0   \n",
       "6                 0                 0                 0               0   \n",
       "7                 0                 0                 0               0   \n",
       "8                 0                 0                 0               0   \n",
       "9                 0                 0                 0               0   \n",
       "\n",
       "   weekday_Saturday  weekday_Sunday  weekday_Thursday  weekday_Tuesday  \\\n",
       "0                 1               0                 0                0   \n",
       "1                 1               0                 0                0   \n",
       "2                 1               0                 0                0   \n",
       "3                 1               0                 0                0   \n",
       "4                 1               0                 0                0   \n",
       "5                 1               0                 0                0   \n",
       "6                 1               0                 0                0   \n",
       "7                 1               0                 0                0   \n",
       "8                 1               0                 0                0   \n",
       "9                 1               0                 0                0   \n",
       "\n",
       "   weekday_Wednesday  \n",
       "0                  0  \n",
       "1                  0  \n",
       "2                  0  \n",
       "3                  0  \n",
       "4                  0  \n",
       "5                  0  \n",
       "6                  0  \n",
       "7                  0  \n",
       "8                  0  \n",
       "9                  0  \n",
       "\n",
       "[10 rows x 25 columns]"
      ]
     },
     "execution_count": 32,
     "metadata": {},
     "output_type": "execute_result"
    }
   ],
   "source": [
    "df_station_updates_all_features.head(10)"
   ]
  },
  {
   "cell_type": "markdown",
   "metadata": {},
   "source": [
    "### Save dataframe as pickle file"
   ]
  },
  {
   "cell_type": "code",
   "execution_count": 33,
   "metadata": {},
   "outputs": [],
   "source": [
    "filename = 'df_station_updates_all_features'\n",
    "outfile = open(filename, 'wb')\n",
    "pickle.dump(df_station_updates_all_features,outfile)\n",
    "outfile.close()"
   ]
  },
  {
   "cell_type": "code",
   "execution_count": null,
   "metadata": {},
   "outputs": [],
   "source": []
  }
 ],
 "metadata": {
  "kernelspec": {
   "display_name": "Python 3",
   "language": "python",
   "name": "python3"
  },
  "language_info": {
   "codemirror_mode": {
    "name": "ipython",
    "version": 3
   },
   "file_extension": ".py",
   "mimetype": "text/x-python",
   "name": "python",
   "nbconvert_exporter": "python",
   "pygments_lexer": "ipython3",
   "version": "3.8.6"
  }
 },
 "nbformat": 4,
 "nbformat_minor": 4
}
